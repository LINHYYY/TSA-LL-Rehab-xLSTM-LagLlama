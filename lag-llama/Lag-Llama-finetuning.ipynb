{
 "cells": [
  {
   "cell_type": "code",
   "execution_count": 1734,
   "metadata": {},
   "outputs": [],
   "source": [
    "from itertools import islice\n",
    "\n",
    "from matplotlib import pyplot as plt\n",
    "import matplotlib.dates as mdates\n",
    "from tqdm.autonotebook import tqdm\n",
    "\n",
    "import torch\n",
    "from gluonts.evaluation import make_evaluation_predictions, Evaluator\n",
    "from gluonts.dataset.repository.datasets import get_dataset\n",
    "\n",
    "from gluonts.dataset.pandas import PandasDataset\n",
    "import pandas as pd\n",
    "\n",
    "from lag_llama.gluon.estimator import LagLlamaEstimator\n",
    "import scipy.io as sio\n",
    "import numpy as np\n",
    "import pandas as pd"
   ]
  },
  {
   "cell_type": "markdown",
   "metadata": {},
   "source": [
    "### Fine Tuning"
   ]
  },
  {
   "cell_type": "code",
   "execution_count": 1735,
   "metadata": {},
   "outputs": [],
   "source": [
    "def get_lag_llama_predictions(dataset, prediction_length, context_length, num_samples, device, batch_size, nonnegative_pred_samples=True):\n",
    "    ckpt = torch.load(\"lag-llama.ckpt\", map_location=device)\n",
    "    estimator_args = ckpt[\"hyper_parameters\"][\"model_kwargs\"]\n",
    "\n",
    "    estimator = LagLlamaEstimator(\n",
    "        ckpt_path=\"lag-llama.ckpt\",\n",
    "        prediction_length=prediction_length,\n",
    "        context_length=context_length,\n",
    "\n",
    "        # estimator args\n",
    "        input_size=estimator_args[\"input_size\"],\n",
    "        n_layer=estimator_args[\"n_layer\"],\n",
    "        n_embd_per_head=estimator_args[\"n_embd_per_head\"],\n",
    "        n_head=estimator_args[\"n_head\"],\n",
    "        scaling=estimator_args[\"scaling\"],\n",
    "        time_feat=estimator_args[\"time_feat\"],\n",
    "\n",
    "        nonnegative_pred_samples=nonnegative_pred_samples,\n",
    "\n",
    "        # linear positional encoding scaling\n",
    "        rope_scaling={\n",
    "            \"type\": \"linear\",\n",
    "            \"factor\": max(1.0, (context_length + prediction_length) / estimator_args[\"context_length\"]),\n",
    "        },\n",
    "\n",
    "        batch_size=batch_size,\n",
    "        num_parallel_samples=num_samples,\n",
    "    )\n",
    "\n",
    "    lightning_module = estimator.create_lightning_module()\n",
    "    transformation = estimator.create_transformation()\n",
    "    predictor = estimator.create_predictor(transformation, lightning_module)\n",
    "\n",
    "    forecast_it, ts_it = make_evaluation_predictions(\n",
    "        dataset=dataset,\n",
    "        predictor=predictor,\n",
    "        num_samples=num_samples\n",
    "    )\n",
    "    # print(forecast_it, ts_it)\n",
    "    forecasts = list(tqdm(forecast_it, total=len(dataset)))\n",
    "    tss = list(tqdm(ts_it, total=len(dataset)))\n",
    "\n",
    "    return forecasts, tss"
   ]
  },
  {
   "cell_type": "code",
   "execution_count": 1736,
   "metadata": {},
   "outputs": [
    {
     "data": {
      "text/html": [
       "<div>\n",
       "<style scoped>\n",
       "    .dataframe tbody tr th:only-of-type {\n",
       "        vertical-align: middle;\n",
       "    }\n",
       "\n",
       "    .dataframe tbody tr th {\n",
       "        vertical-align: top;\n",
       "    }\n",
       "\n",
       "    .dataframe thead th {\n",
       "        text-align: right;\n",
       "    }\n",
       "</style>\n",
       "<table border=\"1\" class=\"dataframe\">\n",
       "  <thead>\n",
       "    <tr style=\"text-align: right;\">\n",
       "      <th></th>\n",
       "      <th>left hip adduction</th>\n",
       "      <th>left hip flexion</th>\n",
       "      <th>left knee flexion</th>\n",
       "      <th>left ankle flexion</th>\n",
       "      <th>right hip adduction</th>\n",
       "      <th>right hip flexion</th>\n",
       "      <th>right knee flexion</th>\n",
       "      <th>right ankle flexion</th>\n",
       "      <th>semg_0</th>\n",
       "      <th>semg_1</th>\n",
       "      <th>...</th>\n",
       "      <th>semg_52</th>\n",
       "      <th>semg_53</th>\n",
       "      <th>left hip adduction torque</th>\n",
       "      <th>left hip flexion torque</th>\n",
       "      <th>left knee flexion torque</th>\n",
       "      <th>left ankle flexion torque</th>\n",
       "      <th>right hip adduction torque</th>\n",
       "      <th>right hip flexion torque</th>\n",
       "      <th>right knee flexion torque</th>\n",
       "      <th>right ankle flexion torque</th>\n",
       "    </tr>\n",
       "  </thead>\n",
       "  <tbody>\n",
       "    <tr>\n",
       "      <th>0.000000</th>\n",
       "      <td>-2.911356</td>\n",
       "      <td>38.685166</td>\n",
       "      <td>92.807369</td>\n",
       "      <td>13.114965</td>\n",
       "      <td>-2.108089</td>\n",
       "      <td>26.361162</td>\n",
       "      <td>35.455239</td>\n",
       "      <td>-1.194237</td>\n",
       "      <td>0.464151</td>\n",
       "      <td>0.000033</td>\n",
       "      <td>...</td>\n",
       "      <td>1.0</td>\n",
       "      <td>81.0</td>\n",
       "      <td>-12.291363</td>\n",
       "      <td>15.570726</td>\n",
       "      <td>0.331848</td>\n",
       "      <td>5.698510</td>\n",
       "      <td>-40.170709</td>\n",
       "      <td>-30.408407</td>\n",
       "      <td>-66.165885</td>\n",
       "      <td>-10.026001</td>\n",
       "    </tr>\n",
       "    <tr>\n",
       "      <th>0.000519</th>\n",
       "      <td>-3.916039</td>\n",
       "      <td>39.976656</td>\n",
       "      <td>94.446092</td>\n",
       "      <td>10.574270</td>\n",
       "      <td>-1.639000</td>\n",
       "      <td>25.718500</td>\n",
       "      <td>36.043649</td>\n",
       "      <td>-0.575133</td>\n",
       "      <td>0.458580</td>\n",
       "      <td>0.000032</td>\n",
       "      <td>...</td>\n",
       "      <td>0.0</td>\n",
       "      <td>87.0</td>\n",
       "      <td>-11.270131</td>\n",
       "      <td>16.087237</td>\n",
       "      <td>-1.825978</td>\n",
       "      <td>6.062143</td>\n",
       "      <td>-42.344766</td>\n",
       "      <td>-26.181394</td>\n",
       "      <td>-71.583512</td>\n",
       "      <td>-7.551678</td>\n",
       "    </tr>\n",
       "    <tr>\n",
       "      <th>0.001038</th>\n",
       "      <td>-4.704382</td>\n",
       "      <td>41.145805</td>\n",
       "      <td>94.759461</td>\n",
       "      <td>9.079517</td>\n",
       "      <td>-1.245771</td>\n",
       "      <td>25.145880</td>\n",
       "      <td>36.316621</td>\n",
       "      <td>-0.087085</td>\n",
       "      <td>0.349124</td>\n",
       "      <td>0.000022</td>\n",
       "      <td>...</td>\n",
       "      <td>0.0</td>\n",
       "      <td>86.0</td>\n",
       "      <td>-10.280912</td>\n",
       "      <td>16.562719</td>\n",
       "      <td>-3.546804</td>\n",
       "      <td>6.066180</td>\n",
       "      <td>-42.859676</td>\n",
       "      <td>-23.273704</td>\n",
       "      <td>-72.653933</td>\n",
       "      <td>-5.573360</td>\n",
       "    </tr>\n",
       "    <tr>\n",
       "      <th>0.001557</th>\n",
       "      <td>-5.167445</td>\n",
       "      <td>42.142139</td>\n",
       "      <td>93.638669</td>\n",
       "      <td>8.519608</td>\n",
       "      <td>-0.998886</td>\n",
       "      <td>24.654968</td>\n",
       "      <td>36.353371</td>\n",
       "      <td>0.334465</td>\n",
       "      <td>0.338890</td>\n",
       "      <td>0.000019</td>\n",
       "      <td>...</td>\n",
       "      <td>0.0</td>\n",
       "      <td>85.0</td>\n",
       "      <td>-9.724392</td>\n",
       "      <td>16.909505</td>\n",
       "      <td>-4.391324</td>\n",
       "      <td>5.928014</td>\n",
       "      <td>-42.396313</td>\n",
       "      <td>-24.082428</td>\n",
       "      <td>-69.565141</td>\n",
       "      <td>-3.891667</td>\n",
       "    </tr>\n",
       "    <tr>\n",
       "      <th>0.002076</th>\n",
       "      <td>-5.279042</td>\n",
       "      <td>42.912946</td>\n",
       "      <td>91.085285</td>\n",
       "      <td>8.425922</td>\n",
       "      <td>-0.915321</td>\n",
       "      <td>24.233310</td>\n",
       "      <td>36.239775</td>\n",
       "      <td>0.765962</td>\n",
       "      <td>0.695603</td>\n",
       "      <td>0.000077</td>\n",
       "      <td>...</td>\n",
       "      <td>0.0</td>\n",
       "      <td>87.0</td>\n",
       "      <td>-10.077636</td>\n",
       "      <td>17.209314</td>\n",
       "      <td>-4.359085</td>\n",
       "      <td>5.822574</td>\n",
       "      <td>-41.532447</td>\n",
       "      <td>-25.538030</td>\n",
       "      <td>-65.141425</td>\n",
       "      <td>-1.583036</td>\n",
       "    </tr>\n",
       "    <tr>\n",
       "      <th>...</th>\n",
       "      <td>...</td>\n",
       "      <td>...</td>\n",
       "      <td>...</td>\n",
       "      <td>...</td>\n",
       "      <td>...</td>\n",
       "      <td>...</td>\n",
       "      <td>...</td>\n",
       "      <td>...</td>\n",
       "      <td>...</td>\n",
       "      <td>...</td>\n",
       "      <td>...</td>\n",
       "      <td>...</td>\n",
       "      <td>...</td>\n",
       "      <td>...</td>\n",
       "      <td>...</td>\n",
       "      <td>...</td>\n",
       "      <td>...</td>\n",
       "      <td>...</td>\n",
       "      <td>...</td>\n",
       "      <td>...</td>\n",
       "      <td>...</td>\n",
       "    </tr>\n",
       "    <tr>\n",
       "      <th>10.352493</th>\n",
       "      <td>-3.552101</td>\n",
       "      <td>29.971559</td>\n",
       "      <td>58.804591</td>\n",
       "      <td>-1.473442</td>\n",
       "      <td>-1.000199</td>\n",
       "      <td>2.639377</td>\n",
       "      <td>19.435343</td>\n",
       "      <td>8.386818</td>\n",
       "      <td>0.143894</td>\n",
       "      <td>0.000003</td>\n",
       "      <td>...</td>\n",
       "      <td>3.0</td>\n",
       "      <td>90.0</td>\n",
       "      <td>-3.757517</td>\n",
       "      <td>0.651826</td>\n",
       "      <td>4.095271</td>\n",
       "      <td>1.988317</td>\n",
       "      <td>-21.119843</td>\n",
       "      <td>-2.046989</td>\n",
       "      <td>-2.666608</td>\n",
       "      <td>-54.869099</td>\n",
       "    </tr>\n",
       "    <tr>\n",
       "      <th>10.353012</th>\n",
       "      <td>-3.133334</td>\n",
       "      <td>28.192172</td>\n",
       "      <td>50.343723</td>\n",
       "      <td>-5.027025</td>\n",
       "      <td>-0.978156</td>\n",
       "      <td>2.092506</td>\n",
       "      <td>19.864062</td>\n",
       "      <td>8.986606</td>\n",
       "      <td>0.134094</td>\n",
       "      <td>0.000003</td>\n",
       "      <td>...</td>\n",
       "      <td>2.0</td>\n",
       "      <td>85.0</td>\n",
       "      <td>-3.885409</td>\n",
       "      <td>-0.470513</td>\n",
       "      <td>5.361873</td>\n",
       "      <td>2.137944</td>\n",
       "      <td>-20.844920</td>\n",
       "      <td>-0.465285</td>\n",
       "      <td>-2.357848</td>\n",
       "      <td>-58.259503</td>\n",
       "    </tr>\n",
       "    <tr>\n",
       "      <th>10.353531</th>\n",
       "      <td>-2.773739</td>\n",
       "      <td>25.794942</td>\n",
       "      <td>41.727031</td>\n",
       "      <td>-8.542155</td>\n",
       "      <td>-0.847580</td>\n",
       "      <td>1.626593</td>\n",
       "      <td>20.943839</td>\n",
       "      <td>9.811705</td>\n",
       "      <td>0.137239</td>\n",
       "      <td>0.000003</td>\n",
       "      <td>...</td>\n",
       "      <td>2.0</td>\n",
       "      <td>90.0</td>\n",
       "      <td>-3.392870</td>\n",
       "      <td>-3.119011</td>\n",
       "      <td>6.809699</td>\n",
       "      <td>2.586792</td>\n",
       "      <td>-21.406693</td>\n",
       "      <td>3.405630</td>\n",
       "      <td>-4.794125</td>\n",
       "      <td>-62.016538</td>\n",
       "    </tr>\n",
       "    <tr>\n",
       "      <th>10.354050</th>\n",
       "      <td>-2.595149</td>\n",
       "      <td>22.963306</td>\n",
       "      <td>33.396294</td>\n",
       "      <td>-11.767030</td>\n",
       "      <td>-0.610220</td>\n",
       "      <td>1.333837</td>\n",
       "      <td>22.751226</td>\n",
       "      <td>10.850543</td>\n",
       "      <td>0.140257</td>\n",
       "      <td>0.000003</td>\n",
       "      <td>...</td>\n",
       "      <td>3.0</td>\n",
       "      <td>92.0</td>\n",
       "      <td>-2.848430</td>\n",
       "      <td>-6.010877</td>\n",
       "      <td>8.151218</td>\n",
       "      <td>2.526886</td>\n",
       "      <td>-21.425267</td>\n",
       "      <td>8.116903</td>\n",
       "      <td>-9.237328</td>\n",
       "      <td>-65.692862</td>\n",
       "    </tr>\n",
       "    <tr>\n",
       "      <th>10.354569</th>\n",
       "      <td>-2.695287</td>\n",
       "      <td>19.981200</td>\n",
       "      <td>25.853716</td>\n",
       "      <td>-14.484920</td>\n",
       "      <td>-0.288146</td>\n",
       "      <td>1.373393</td>\n",
       "      <td>25.364047</td>\n",
       "      <td>12.053180</td>\n",
       "      <td>0.145226</td>\n",
       "      <td>0.000003</td>\n",
       "      <td>...</td>\n",
       "      <td>4.0</td>\n",
       "      <td>88.0</td>\n",
       "      <td>-1.897687</td>\n",
       "      <td>-8.769617</td>\n",
       "      <td>9.281079</td>\n",
       "      <td>2.319176</td>\n",
       "      <td>-21.113586</td>\n",
       "      <td>10.761686</td>\n",
       "      <td>-13.947579</td>\n",
       "      <td>-68.969733</td>\n",
       "    </tr>\n",
       "  </tbody>\n",
       "</table>\n",
       "<p>19952 rows × 70 columns</p>\n",
       "</div>"
      ],
      "text/plain": [
       "           left hip adduction   left hip flexion     left knee flexion    \\\n",
       "0.000000             -2.911356            38.685166            92.807369   \n",
       "0.000519             -3.916039            39.976656            94.446092   \n",
       "0.001038             -4.704382            41.145805            94.759461   \n",
       "0.001557             -5.167445            42.142139            93.638669   \n",
       "0.002076             -5.279042            42.912946            91.085285   \n",
       "...                        ...                  ...                  ...   \n",
       "10.352493            -3.552101            29.971559            58.804591   \n",
       "10.353012            -3.133334            28.192172            50.343723   \n",
       "10.353531            -2.773739            25.794942            41.727031   \n",
       "10.354050            -2.595149            22.963306            33.396294   \n",
       "10.354569            -2.695287            19.981200            25.853716   \n",
       "\n",
       "           left ankle flexion   right hip adduction  right hip flexion    \\\n",
       "0.000000             13.114965            -2.108089            26.361162   \n",
       "0.000519             10.574270            -1.639000            25.718500   \n",
       "0.001038              9.079517            -1.245771            25.145880   \n",
       "0.001557              8.519608            -0.998886            24.654968   \n",
       "0.002076              8.425922            -0.915321            24.233310   \n",
       "...                        ...                  ...                  ...   \n",
       "10.352493            -1.473442            -1.000199             2.639377   \n",
       "10.353012            -5.027025            -0.978156             2.092506   \n",
       "10.353531            -8.542155            -0.847580             1.626593   \n",
       "10.354050           -11.767030            -0.610220             1.333837   \n",
       "10.354569           -14.484920            -0.288146             1.373393   \n",
       "\n",
       "           right knee flexion   right ankle flexion    semg_0    semg_1  ...  \\\n",
       "0.000000             35.455239            -1.194237  0.464151  0.000033  ...   \n",
       "0.000519             36.043649            -0.575133  0.458580  0.000032  ...   \n",
       "0.001038             36.316621            -0.087085  0.349124  0.000022  ...   \n",
       "0.001557             36.353371             0.334465  0.338890  0.000019  ...   \n",
       "0.002076             36.239775             0.765962  0.695603  0.000077  ...   \n",
       "...                        ...                  ...       ...       ...  ...   \n",
       "10.352493            19.435343             8.386818  0.143894  0.000003  ...   \n",
       "10.353012            19.864062             8.986606  0.134094  0.000003  ...   \n",
       "10.353531            20.943839             9.811705  0.137239  0.000003  ...   \n",
       "10.354050            22.751226            10.850543  0.140257  0.000003  ...   \n",
       "10.354569            25.364047            12.053180  0.145226  0.000003  ...   \n",
       "\n",
       "           semg_52  semg_53  left hip adduction torque   \\\n",
       "0.000000       1.0     81.0                  -12.291363   \n",
       "0.000519       0.0     87.0                  -11.270131   \n",
       "0.001038       0.0     86.0                  -10.280912   \n",
       "0.001557       0.0     85.0                   -9.724392   \n",
       "0.002076       0.0     87.0                  -10.077636   \n",
       "...            ...      ...                         ...   \n",
       "10.352493      3.0     90.0                   -3.757517   \n",
       "10.353012      2.0     85.0                   -3.885409   \n",
       "10.353531      2.0     90.0                   -3.392870   \n",
       "10.354050      3.0     92.0                   -2.848430   \n",
       "10.354569      4.0     88.0                   -1.897687   \n",
       "\n",
       "           left hip flexion torque     left knee flexion torque    \\\n",
       "0.000000                    15.570726                    0.331848   \n",
       "0.000519                    16.087237                   -1.825978   \n",
       "0.001038                    16.562719                   -3.546804   \n",
       "0.001557                    16.909505                   -4.391324   \n",
       "0.002076                    17.209314                   -4.359085   \n",
       "...                               ...                         ...   \n",
       "10.352493                    0.651826                    4.095271   \n",
       "10.353012                   -0.470513                    5.361873   \n",
       "10.353531                   -3.119011                    6.809699   \n",
       "10.354050                   -6.010877                    8.151218   \n",
       "10.354569                   -8.769617                    9.281079   \n",
       "\n",
       "           left ankle flexion torque   right hip adduction torque  \\\n",
       "0.000000                     5.698510                  -40.170709   \n",
       "0.000519                     6.062143                  -42.344766   \n",
       "0.001038                     6.066180                  -42.859676   \n",
       "0.001557                     5.928014                  -42.396313   \n",
       "0.002076                     5.822574                  -41.532447   \n",
       "...                               ...                         ...   \n",
       "10.352493                    1.988317                  -21.119843   \n",
       "10.353012                    2.137944                  -20.844920   \n",
       "10.353531                    2.586792                  -21.406693   \n",
       "10.354050                    2.526886                  -21.425267   \n",
       "10.354569                    2.319176                  -21.113586   \n",
       "\n",
       "           right hip flexion torque    right knee flexion torque   \\\n",
       "0.000000                   -30.408407                  -66.165885   \n",
       "0.000519                   -26.181394                  -71.583512   \n",
       "0.001038                   -23.273704                  -72.653933   \n",
       "0.001557                   -24.082428                  -69.565141   \n",
       "0.002076                   -25.538030                  -65.141425   \n",
       "...                               ...                         ...   \n",
       "10.352493                   -2.046989                   -2.666608   \n",
       "10.353012                   -0.465285                   -2.357848   \n",
       "10.353531                    3.405630                   -4.794125   \n",
       "10.354050                    8.116903                   -9.237328   \n",
       "10.354569                   10.761686                  -13.947579   \n",
       "\n",
       "           right ankle flexion torque  \n",
       "0.000000                   -10.026001  \n",
       "0.000519                    -7.551678  \n",
       "0.001038                    -5.573360  \n",
       "0.001557                    -3.891667  \n",
       "0.002076                    -1.583036  \n",
       "...                               ...  \n",
       "10.352493                  -54.869099  \n",
       "10.353012                  -58.259503  \n",
       "10.353531                  -62.016538  \n",
       "10.354050                  -65.692862  \n",
       "10.354569                  -68.969733  \n",
       "\n",
       "[19952 rows x 70 columns]"
      ]
     },
     "execution_count": 1736,
     "metadata": {},
     "output_type": "execute_result"
    }
   ],
   "source": [
    "data = sio.loadmat('D:\\\\ly\\\\sEMG\\\\SIAT-UPS\\\\emg_features_examples.mat')\n",
    "\n",
    "semg_data = data['examples']  # shape: (samples, 9, 6)\n",
    "joint_angles = data['angle_labels']  # shape: (samples, 8)\n",
    "joint_torques = data['torque_labels']  # shape: (samples, 8)\n",
    "\n",
    "angles_name = data['angle_name']\n",
    "torques_name = data['torque_name']\n",
    "\n",
    "# 重塑sEMG数据\n",
    "semg_reshaped = semg_data.reshape(semg_data.shape[0], -1)  # shape: (samples, 54)\n",
    "\n",
    "# 创建时间索引\n",
    "num_samples = semg_data.shape[0]\n",
    "sampling_rate = 1926  # f'{1000/sampling_rate:.3f}ms'\n",
    "time_index = pd.timedelta_range(start='0', \n",
    "                                periods=num_samples, \n",
    "                                freq=f'{1000/sampling_rate:.3f}ms')\n",
    "\n",
    "# 创建DataFrame\n",
    "df = pd.DataFrame(\n",
    "    np.hstack((joint_angles, semg_reshaped, joint_torques)),\n",
    "    index=time_index,\n",
    "    columns=[f'{angles_name[i]}' for i in range(8)] + [f'semg_{i}' for i in range(54)] + [f'{torques_name[i]}' for i in range(8)]\n",
    ")\n",
    "df.index = df.index.total_seconds()\n",
    "df"
   ]
  },
  {
   "cell_type": "code",
   "execution_count": 1820,
   "metadata": {},
   "outputs": [
    {
     "data": {
      "text/plain": [
       "[{'target': array([-10.026001,  -7.551678,  -5.57336 , ..., -62.016537, -65.69286 ,\n",
       "         -68.969734], dtype=float32),\n",
       "  'start': Period('2023-01-01 00:00:00.000', 'L'),\n",
       "  'item_id': 'right ankle flexion torque'}]"
      ]
     },
     "execution_count": 1820,
     "metadata": {},
     "output_type": "execute_result"
    }
   ],
   "source": [
    "from gluonts.dataset.common import ListDataset\n",
    "\n",
    "def prepare_data_for_gluonts(df):\n",
    "    target_variables = [f'{torques_name[7]}']\n",
    "    # target_variables = [f'{angles_name[i]}' for i in range(8)]\n",
    "    # target_variables = [f'{torques_name[i]}' for i in range(8)]\n",
    "\n",
    "    # 创建一个字典来存储每个目标变量的时间序列\n",
    "    data = []\n",
    "    for var in target_variables:\n",
    "        ts = {\n",
    "            \"target\": df[var].values,\n",
    "            \"start\": pd.Timestamp(\"2023-01-01\"),  # 使用一个任意的开始日期\n",
    "            \"item_id\": var\n",
    "        }\n",
    "        data.append(ts)\n",
    "    return ListDataset(data, freq='1ms')  # 假设频率是1ms f'{1000/sampling_rate:.3f}ms'\n",
    "\n",
    "# 准备数据\n",
    "gluonts_dataset = prepare_data_for_gluonts(df)\n",
    "gluonts_dataset"
   ]
  },
  {
   "cell_type": "markdown",
   "metadata": {},
   "source": [
    "### finetuning"
   ]
  },
  {
   "cell_type": "code",
   "execution_count": 1821,
   "metadata": {},
   "outputs": [
    {
     "name": "stdout",
     "output_type": "stream",
     "text": [
      "训练集时间长度: 15961\n",
      "测试集时间长度: 3991\n"
     ]
    }
   ],
   "source": [
    "from gluonts.dataset.common import ListDataset\n",
    "import pandas as pd\n",
    "import numpy as np\n",
    "\n",
    "def split_long_timeseries(dataset, train_ratio, freq):\n",
    "    first_item = dataset[0]\n",
    "    total_length = len(first_item[\"target\"])\n",
    "    \n",
    "    # 计算训练集的长度\n",
    "    train_length = int(total_length * train_ratio)\n",
    "    \n",
    "    train_data = []\n",
    "    test_data = []\n",
    "    \n",
    "    for item in dataset:\n",
    "        train_item = {\n",
    "            \"target\": item[\"target\"][:train_length],\n",
    "            \"start\": item[\"start\"],\n",
    "            \"item_id\": item[\"item_id\"]\n",
    "        }\n",
    "        test_item = {\n",
    "            \"target\": item[\"target\"][train_length:],\n",
    "            \"start\": item[\"start\"] + pd.Timedelta(milliseconds=2*train_length),\n",
    "            \"item_id\": item[\"item_id\"]\n",
    "        }\n",
    "        train_data.append(train_item)\n",
    "        test_data.append(test_item)\n",
    "    \n",
    "    train_dataset = ListDataset(train_data, freq=freq)\n",
    "    test_dataset = ListDataset(test_data, freq=freq)\n",
    "    \n",
    "    return train_dataset, test_dataset\n",
    "\n",
    "# truncated_dataset = truncate_dataset(gluonts_dataset, last_n=1000)\n",
    "# truncated_dataset = truncate_dataset_head(gluonts_dataset, first_n=5000)\n",
    "train_dataset, test_dataset = split_long_timeseries(gluonts_dataset, train_ratio=0.8, freq=f'1ms')\n",
    "\n",
    "print(f\"训练集时间长度: {len(train_dataset[0]['target'])}\")\n",
    "print(f\"测试集时间长度: {len(test_dataset[0]['target'])}\")"
   ]
  },
  {
   "cell_type": "code",
   "execution_count": 1829,
   "metadata": {},
   "outputs": [
    {
     "name": "stderr",
     "output_type": "stream",
     "text": [
      "C:\\Users\\linhy\\AppData\\Local\\Temp\\ipykernel_13364\\2120087043.py:6: FutureWarning: You are using `torch.load` with `weights_only=False` (the current default value), which uses the default pickle module implicitly. It is possible to construct malicious pickle data which will execute arbitrary code during unpickling (See https://github.com/pytorch/pytorch/blob/main/SECURITY.md#untrusted-models for more details). In a future release, the default value for `weights_only` will be flipped to `True`. This limits the functions that could be executed during unpickling. Arbitrary objects will no longer be allowed to be loaded via this mode unless they are explicitly allowlisted by the user via `torch.serialization.add_safe_globals`. We recommend you start setting `weights_only=True` for any use case where you don't have full control of the loaded file. Please open an issue on GitHub for any issues related to this experimental feature.\n",
      "  ckpt = torch.load(\"lag-llama.ckpt\", map_location=device)\n"
     ]
    },
    {
     "data": {
      "text/plain": [
       "(8, 16, 9)"
      ]
     },
     "execution_count": 1829,
     "metadata": {},
     "output_type": "execute_result"
    }
   ],
   "source": [
    "prediction_length = 128\n",
    "context_length = prediction_length*4\n",
    "device = 'cuda'\n",
    "num_samples = 20\n",
    "epoch = 50 # step = epoch * 50\n",
    "ckpt = torch.load(\"lag-llama.ckpt\", map_location=device)\n",
    "estimator_args = ckpt[\"hyper_parameters\"][\"model_kwargs\"]\n",
    "\n",
    "estimator = LagLlamaEstimator(\n",
    "        ckpt_path=\"lag-llama.ckpt\",\n",
    "        prediction_length=prediction_length,\n",
    "        context_length=context_length,\n",
    "\n",
    "        # distr_output=\"neg_bin\",\n",
    "        # scaling=\"mean\",\n",
    "        nonnegative_pred_samples=False,\n",
    "        aug_prob=0,\n",
    "        lr=5e-4,  # 1e-2, 5e-2, 1e-3, 5e-3, 1e-4, 5e-4?  5e-4\n",
    "\n",
    "        # estimator args\n",
    "        input_size=estimator_args[\"input_size\"], # 特征值\n",
    "        n_layer=estimator_args[\"n_layer\"],  # 层数 4\\6\\8\\12\\16\n",
    "        n_embd_per_head=estimator_args[\"n_embd_per_head\"],  # 每个attention头的嵌入维度 32\\64\\128\\256\n",
    "        n_head=estimator_args[\"n_head\"],  # attention头数 4\\8\\16\n",
    "        time_feat=estimator_args[\"time_feat\"],\n",
    "\n",
    "        rope_scaling={\n",
    "             \"type\": \"linear\",\n",
    "             \"factor\": max(1.0, (context_length + prediction_length) / estimator_args[\"context_length\"]),\n",
    "         },\n",
    "\n",
    "        batch_size=16,\n",
    "        num_parallel_samples=num_samples,\n",
    "        trainer_kwargs = {\"max_epochs\": epoch,}, # <- lightning trainer arguments\n",
    "    )\n",
    "\n",
    "estimator_args[\"n_layer\"], estimator_args[\"n_embd_per_head\"], estimator_args[\"n_head\"]"
   ]
  },
  {
   "cell_type": "code",
   "execution_count": 1830,
   "metadata": {},
   "outputs": [
    {
     "name": "stderr",
     "output_type": "stream",
     "text": [
      "d:\\Anaconda3\\envs\\SIAT-ModelTest\\Lib\\site-packages\\lightning\\fabric\\utilities\\cloud_io.py:56: You are using `torch.load` with `weights_only=False` (the current default value), which uses the default pickle module implicitly. It is possible to construct malicious pickle data which will execute arbitrary code during unpickling (See https://github.com/pytorch/pytorch/blob/main/SECURITY.md#untrusted-models for more details). In a future release, the default value for `weights_only` will be flipped to `True`. This limits the functions that could be executed during unpickling. Arbitrary objects will no longer be allowed to be loaded via this mode unless they are explicitly allowlisted by the user via `torch.serialization.add_safe_globals`. We recommend you start setting `weights_only=True` for any use case where you don't have full control of the loaded file. Please open an issue on GitHub for any issues related to this experimental feature.\n",
      "GPU available: True (cuda), used: True\n",
      "TPU available: False, using: 0 TPU cores\n",
      "IPU available: False, using: 0 IPUs\n",
      "HPU available: False, using: 0 HPUs\n",
      "d:\\Anaconda3\\envs\\SIAT-ModelTest\\Lib\\site-packages\\lightning\\pytorch\\trainer\\configuration_validator.py:74: You defined a `validation_step` but have no `val_dataloader`. Skipping val loop.\n",
      "LOCAL_RANK: 0 - CUDA_VISIBLE_DEVICES: [0]\n",
      "\n",
      "  | Name          | Type               | Params\n",
      "-----------------------------------------------------\n",
      "0 | model         | LagLlamaModel      | 2.4 M \n",
      "1 | augmentations | ApplyAugmentations | 0     \n",
      "-----------------------------------------------------\n",
      "2.4 M     Trainable params\n",
      "0         Non-trainable params\n",
      "2.4 M     Total params\n",
      "9.797     Total estimated model params size (MB)\n"
     ]
    },
    {
     "name": "stdout",
     "output_type": "stream",
     "text": [
      "Epoch 0: |          | 50/? [00:01<00:00, 27.16it/s, v_num=200]"
     ]
    },
    {
     "name": "stderr",
     "output_type": "stream",
     "text": [
      "Epoch 0, global step 50: 'train_loss' reached 3.20033 (best 3.20033), saving model to 'd:\\\\ly\\\\sEMG\\\\SIAT\\\\lag-llama\\\\lightning_logs\\\\version_200\\\\checkpoints\\\\epoch=0-step=50.ckpt' as top 1\n"
     ]
    },
    {
     "name": "stdout",
     "output_type": "stream",
     "text": [
      "Epoch 1: |          | 50/? [00:01<00:00, 31.46it/s, v_num=200]"
     ]
    },
    {
     "name": "stderr",
     "output_type": "stream",
     "text": [
      "Epoch 1, global step 100: 'train_loss' reached 2.73694 (best 2.73694), saving model to 'd:\\\\ly\\\\sEMG\\\\SIAT\\\\lag-llama\\\\lightning_logs\\\\version_200\\\\checkpoints\\\\epoch=1-step=100.ckpt' as top 1\n"
     ]
    },
    {
     "name": "stdout",
     "output_type": "stream",
     "text": [
      "Epoch 2: |          | 50/? [00:01<00:00, 31.71it/s, v_num=200]"
     ]
    },
    {
     "name": "stderr",
     "output_type": "stream",
     "text": [
      "Epoch 2, global step 150: 'train_loss' reached 2.36586 (best 2.36586), saving model to 'd:\\\\ly\\\\sEMG\\\\SIAT\\\\lag-llama\\\\lightning_logs\\\\version_200\\\\checkpoints\\\\epoch=2-step=150.ckpt' as top 1\n"
     ]
    },
    {
     "name": "stdout",
     "output_type": "stream",
     "text": [
      "Epoch 3: |          | 50/? [00:01<00:00, 31.07it/s, v_num=200]"
     ]
    },
    {
     "name": "stderr",
     "output_type": "stream",
     "text": [
      "Epoch 3, global step 200: 'train_loss' reached 2.35770 (best 2.35770), saving model to 'd:\\\\ly\\\\sEMG\\\\SIAT\\\\lag-llama\\\\lightning_logs\\\\version_200\\\\checkpoints\\\\epoch=3-step=200.ckpt' as top 1\n"
     ]
    },
    {
     "name": "stdout",
     "output_type": "stream",
     "text": [
      "Epoch 4: |          | 50/? [00:01<00:00, 30.79it/s, v_num=200]"
     ]
    },
    {
     "name": "stderr",
     "output_type": "stream",
     "text": [
      "Epoch 4, global step 250: 'train_loss' reached 2.26706 (best 2.26706), saving model to 'd:\\\\ly\\\\sEMG\\\\SIAT\\\\lag-llama\\\\lightning_logs\\\\version_200\\\\checkpoints\\\\epoch=4-step=250.ckpt' as top 1\n"
     ]
    },
    {
     "name": "stdout",
     "output_type": "stream",
     "text": [
      "Epoch 5: |          | 50/? [00:01<00:00, 30.75it/s, v_num=200]"
     ]
    },
    {
     "name": "stderr",
     "output_type": "stream",
     "text": [
      "Epoch 5, global step 300: 'train_loss' reached 1.88073 (best 1.88073), saving model to 'd:\\\\ly\\\\sEMG\\\\SIAT\\\\lag-llama\\\\lightning_logs\\\\version_200\\\\checkpoints\\\\epoch=5-step=300.ckpt' as top 1\n"
     ]
    },
    {
     "name": "stdout",
     "output_type": "stream",
     "text": [
      "Epoch 6: |          | 50/? [00:01<00:00, 30.46it/s, v_num=200]"
     ]
    },
    {
     "name": "stderr",
     "output_type": "stream",
     "text": [
      "Epoch 6, global step 350: 'train_loss' was not in top 1\n"
     ]
    },
    {
     "name": "stdout",
     "output_type": "stream",
     "text": [
      "Epoch 7: |          | 50/? [00:01<00:00, 30.97it/s, v_num=200]"
     ]
    },
    {
     "name": "stderr",
     "output_type": "stream",
     "text": [
      "Epoch 7, global step 400: 'train_loss' reached 1.79400 (best 1.79400), saving model to 'd:\\\\ly\\\\sEMG\\\\SIAT\\\\lag-llama\\\\lightning_logs\\\\version_200\\\\checkpoints\\\\epoch=7-step=400.ckpt' as top 1\n"
     ]
    },
    {
     "name": "stdout",
     "output_type": "stream",
     "text": [
      "Epoch 8: |          | 50/? [00:01<00:00, 31.33it/s, v_num=200]"
     ]
    },
    {
     "name": "stderr",
     "output_type": "stream",
     "text": [
      "Epoch 8, global step 450: 'train_loss' reached 1.69870 (best 1.69870), saving model to 'd:\\\\ly\\\\sEMG\\\\SIAT\\\\lag-llama\\\\lightning_logs\\\\version_200\\\\checkpoints\\\\epoch=8-step=450.ckpt' as top 1\n"
     ]
    },
    {
     "name": "stdout",
     "output_type": "stream",
     "text": [
      "Epoch 9: |          | 50/? [00:01<00:00, 31.07it/s, v_num=200]"
     ]
    },
    {
     "name": "stderr",
     "output_type": "stream",
     "text": [
      "Epoch 9, global step 500: 'train_loss' reached 1.59511 (best 1.59511), saving model to 'd:\\\\ly\\\\sEMG\\\\SIAT\\\\lag-llama\\\\lightning_logs\\\\version_200\\\\checkpoints\\\\epoch=9-step=500.ckpt' as top 1\n"
     ]
    },
    {
     "name": "stdout",
     "output_type": "stream",
     "text": [
      "Epoch 10: |          | 50/? [00:01<00:00, 30.32it/s, v_num=200]"
     ]
    },
    {
     "name": "stderr",
     "output_type": "stream",
     "text": [
      "Epoch 10, global step 550: 'train_loss' reached 1.49790 (best 1.49790), saving model to 'd:\\\\ly\\\\sEMG\\\\SIAT\\\\lag-llama\\\\lightning_logs\\\\version_200\\\\checkpoints\\\\epoch=10-step=550.ckpt' as top 1\n"
     ]
    },
    {
     "name": "stdout",
     "output_type": "stream",
     "text": [
      "Epoch 11: |          | 50/? [00:01<00:00, 29.06it/s, v_num=200]"
     ]
    },
    {
     "name": "stderr",
     "output_type": "stream",
     "text": [
      "Epoch 11, global step 600: 'train_loss' was not in top 1\n"
     ]
    },
    {
     "name": "stdout",
     "output_type": "stream",
     "text": [
      "Epoch 12: |          | 50/? [00:01<00:00, 28.99it/s, v_num=200]"
     ]
    },
    {
     "name": "stderr",
     "output_type": "stream",
     "text": [
      "Epoch 12, global step 650: 'train_loss' reached 1.45196 (best 1.45196), saving model to 'd:\\\\ly\\\\sEMG\\\\SIAT\\\\lag-llama\\\\lightning_logs\\\\version_200\\\\checkpoints\\\\epoch=12-step=650.ckpt' as top 1\n"
     ]
    },
    {
     "name": "stdout",
     "output_type": "stream",
     "text": [
      "Epoch 13: |          | 50/? [00:01<00:00, 29.10it/s, v_num=200]"
     ]
    },
    {
     "name": "stderr",
     "output_type": "stream",
     "text": [
      "Epoch 13, global step 700: 'train_loss' was not in top 1\n"
     ]
    },
    {
     "name": "stdout",
     "output_type": "stream",
     "text": [
      "Epoch 14: |          | 50/? [00:01<00:00, 29.20it/s, v_num=200]"
     ]
    },
    {
     "name": "stderr",
     "output_type": "stream",
     "text": [
      "Epoch 14, global step 750: 'train_loss' reached 1.33104 (best 1.33104), saving model to 'd:\\\\ly\\\\sEMG\\\\SIAT\\\\lag-llama\\\\lightning_logs\\\\version_200\\\\checkpoints\\\\epoch=14-step=750.ckpt' as top 1\n"
     ]
    },
    {
     "name": "stdout",
     "output_type": "stream",
     "text": [
      "Epoch 15: |          | 50/? [00:01<00:00, 29.02it/s, v_num=200]"
     ]
    },
    {
     "name": "stderr",
     "output_type": "stream",
     "text": [
      "Epoch 15, global step 800: 'train_loss' reached 1.30787 (best 1.30787), saving model to 'd:\\\\ly\\\\sEMG\\\\SIAT\\\\lag-llama\\\\lightning_logs\\\\version_200\\\\checkpoints\\\\epoch=15-step=800.ckpt' as top 1\n"
     ]
    },
    {
     "name": "stdout",
     "output_type": "stream",
     "text": [
      "Epoch 16: |          | 50/? [00:01<00:00, 29.30it/s, v_num=200]"
     ]
    },
    {
     "name": "stderr",
     "output_type": "stream",
     "text": [
      "Epoch 16, global step 850: 'train_loss' was not in top 1\n"
     ]
    },
    {
     "name": "stdout",
     "output_type": "stream",
     "text": [
      "Epoch 17: |          | 50/? [00:01<00:00, 29.43it/s, v_num=200]"
     ]
    },
    {
     "name": "stderr",
     "output_type": "stream",
     "text": [
      "Epoch 17, global step 900: 'train_loss' reached 1.28270 (best 1.28270), saving model to 'd:\\\\ly\\\\sEMG\\\\SIAT\\\\lag-llama\\\\lightning_logs\\\\version_200\\\\checkpoints\\\\epoch=17-step=900.ckpt' as top 1\n"
     ]
    },
    {
     "name": "stdout",
     "output_type": "stream",
     "text": [
      "Epoch 18: |          | 50/? [00:01<00:00, 29.06it/s, v_num=200]"
     ]
    },
    {
     "name": "stderr",
     "output_type": "stream",
     "text": [
      "Epoch 18, global step 950: 'train_loss' reached 1.16489 (best 1.16489), saving model to 'd:\\\\ly\\\\sEMG\\\\SIAT\\\\lag-llama\\\\lightning_logs\\\\version_200\\\\checkpoints\\\\epoch=18-step=950.ckpt' as top 1\n"
     ]
    },
    {
     "name": "stdout",
     "output_type": "stream",
     "text": [
      "Epoch 19: |          | 50/? [00:01<00:00, 29.36it/s, v_num=200]"
     ]
    },
    {
     "name": "stderr",
     "output_type": "stream",
     "text": [
      "Epoch 19, global step 1000: 'train_loss' reached 1.10700 (best 1.10700), saving model to 'd:\\\\ly\\\\sEMG\\\\SIAT\\\\lag-llama\\\\lightning_logs\\\\version_200\\\\checkpoints\\\\epoch=19-step=1000.ckpt' as top 1\n"
     ]
    },
    {
     "name": "stdout",
     "output_type": "stream",
     "text": [
      "Epoch 20: |          | 50/? [00:01<00:00, 29.16it/s, v_num=200]"
     ]
    },
    {
     "name": "stderr",
     "output_type": "stream",
     "text": [
      "Epoch 20, global step 1050: 'train_loss' was not in top 1\n"
     ]
    },
    {
     "name": "stdout",
     "output_type": "stream",
     "text": [
      "Epoch 21: |          | 50/? [00:01<00:00, 29.24it/s, v_num=200]"
     ]
    },
    {
     "name": "stderr",
     "output_type": "stream",
     "text": [
      "Epoch 21, global step 1100: 'train_loss' was not in top 1\n"
     ]
    },
    {
     "name": "stdout",
     "output_type": "stream",
     "text": [
      "Epoch 22: |          | 50/? [00:01<00:00, 29.44it/s, v_num=200]"
     ]
    },
    {
     "name": "stderr",
     "output_type": "stream",
     "text": [
      "Epoch 22, global step 1150: 'train_loss' was not in top 1\n"
     ]
    },
    {
     "name": "stdout",
     "output_type": "stream",
     "text": [
      "Epoch 23: |          | 50/? [00:01<00:00, 29.20it/s, v_num=200]"
     ]
    },
    {
     "name": "stderr",
     "output_type": "stream",
     "text": [
      "Epoch 23, global step 1200: 'train_loss' was not in top 1\n"
     ]
    },
    {
     "name": "stdout",
     "output_type": "stream",
     "text": [
      "Epoch 24: |          | 50/? [00:01<00:00, 27.83it/s, v_num=200]"
     ]
    },
    {
     "name": "stderr",
     "output_type": "stream",
     "text": [
      "Epoch 24, global step 1250: 'train_loss' was not in top 1\n"
     ]
    },
    {
     "name": "stdout",
     "output_type": "stream",
     "text": [
      "Epoch 25: |          | 50/? [00:01<00:00, 28.30it/s, v_num=200]"
     ]
    },
    {
     "name": "stderr",
     "output_type": "stream",
     "text": [
      "Epoch 25, global step 1300: 'train_loss' was not in top 1\n"
     ]
    },
    {
     "name": "stdout",
     "output_type": "stream",
     "text": [
      "Epoch 26: |          | 50/? [00:01<00:00, 28.49it/s, v_num=200]"
     ]
    },
    {
     "name": "stderr",
     "output_type": "stream",
     "text": [
      "Epoch 26, global step 1350: 'train_loss' reached 1.02096 (best 1.02096), saving model to 'd:\\\\ly\\\\sEMG\\\\SIAT\\\\lag-llama\\\\lightning_logs\\\\version_200\\\\checkpoints\\\\epoch=26-step=1350.ckpt' as top 1\n"
     ]
    },
    {
     "name": "stdout",
     "output_type": "stream",
     "text": [
      "Epoch 27: |          | 50/? [00:01<00:00, 29.51it/s, v_num=200]"
     ]
    },
    {
     "name": "stderr",
     "output_type": "stream",
     "text": [
      "Epoch 27, global step 1400: 'train_loss' reached 1.00480 (best 1.00480), saving model to 'd:\\\\ly\\\\sEMG\\\\SIAT\\\\lag-llama\\\\lightning_logs\\\\version_200\\\\checkpoints\\\\epoch=27-step=1400.ckpt' as top 1\n"
     ]
    },
    {
     "name": "stdout",
     "output_type": "stream",
     "text": [
      "Epoch 28: |          | 50/? [00:01<00:00, 29.24it/s, v_num=200]"
     ]
    },
    {
     "name": "stderr",
     "output_type": "stream",
     "text": [
      "Epoch 28, global step 1450: 'train_loss' reached 0.96657 (best 0.96657), saving model to 'd:\\\\ly\\\\sEMG\\\\SIAT\\\\lag-llama\\\\lightning_logs\\\\version_200\\\\checkpoints\\\\epoch=28-step=1450.ckpt' as top 1\n"
     ]
    },
    {
     "name": "stdout",
     "output_type": "stream",
     "text": [
      "Epoch 29: |          | 50/? [00:01<00:00, 29.16it/s, v_num=200]"
     ]
    },
    {
     "name": "stderr",
     "output_type": "stream",
     "text": [
      "Epoch 29, global step 1500: 'train_loss' reached 0.88964 (best 0.88964), saving model to 'd:\\\\ly\\\\sEMG\\\\SIAT\\\\lag-llama\\\\lightning_logs\\\\version_200\\\\checkpoints\\\\epoch=29-step=1500.ckpt' as top 1\n"
     ]
    },
    {
     "name": "stdout",
     "output_type": "stream",
     "text": [
      "Epoch 30: |          | 50/? [00:01<00:00, 29.55it/s, v_num=200]"
     ]
    },
    {
     "name": "stderr",
     "output_type": "stream",
     "text": [
      "Epoch 30, global step 1550: 'train_loss' was not in top 1\n"
     ]
    },
    {
     "name": "stdout",
     "output_type": "stream",
     "text": [
      "Epoch 31: |          | 50/? [00:01<00:00, 29.45it/s, v_num=200]"
     ]
    },
    {
     "name": "stderr",
     "output_type": "stream",
     "text": [
      "Epoch 31, global step 1600: 'train_loss' was not in top 1\n"
     ]
    },
    {
     "name": "stdout",
     "output_type": "stream",
     "text": [
      "Epoch 32: |          | 50/? [00:01<00:00, 28.41it/s, v_num=200]"
     ]
    },
    {
     "name": "stderr",
     "output_type": "stream",
     "text": [
      "Epoch 32, global step 1650: 'train_loss' reached 0.82770 (best 0.82770), saving model to 'd:\\\\ly\\\\sEMG\\\\SIAT\\\\lag-llama\\\\lightning_logs\\\\version_200\\\\checkpoints\\\\epoch=32-step=1650.ckpt' as top 1\n"
     ]
    },
    {
     "name": "stdout",
     "output_type": "stream",
     "text": [
      "Epoch 33: |          | 50/? [00:01<00:00, 29.18it/s, v_num=200]"
     ]
    },
    {
     "name": "stderr",
     "output_type": "stream",
     "text": [
      "Epoch 33, global step 1700: 'train_loss' was not in top 1\n"
     ]
    },
    {
     "name": "stdout",
     "output_type": "stream",
     "text": [
      "Epoch 34: |          | 50/? [00:01<00:00, 29.20it/s, v_num=200]"
     ]
    },
    {
     "name": "stderr",
     "output_type": "stream",
     "text": [
      "Epoch 34, global step 1750: 'train_loss' was not in top 1\n"
     ]
    },
    {
     "name": "stdout",
     "output_type": "stream",
     "text": [
      "Epoch 35: |          | 50/? [00:01<00:00, 28.97it/s, v_num=200]"
     ]
    },
    {
     "name": "stderr",
     "output_type": "stream",
     "text": [
      "Epoch 35, global step 1800: 'train_loss' reached 0.80612 (best 0.80612), saving model to 'd:\\\\ly\\\\sEMG\\\\SIAT\\\\lag-llama\\\\lightning_logs\\\\version_200\\\\checkpoints\\\\epoch=35-step=1800.ckpt' as top 1\n"
     ]
    },
    {
     "name": "stdout",
     "output_type": "stream",
     "text": [
      "Epoch 36: |          | 50/? [00:01<00:00, 29.31it/s, v_num=200]"
     ]
    },
    {
     "name": "stderr",
     "output_type": "stream",
     "text": [
      "Epoch 36, global step 1850: 'train_loss' reached 0.79971 (best 0.79971), saving model to 'd:\\\\ly\\\\sEMG\\\\SIAT\\\\lag-llama\\\\lightning_logs\\\\version_200\\\\checkpoints\\\\epoch=36-step=1850.ckpt' as top 1\n"
     ]
    },
    {
     "name": "stdout",
     "output_type": "stream",
     "text": [
      "Epoch 37: |          | 50/? [00:01<00:00, 29.36it/s, v_num=200]"
     ]
    },
    {
     "name": "stderr",
     "output_type": "stream",
     "text": [
      "Epoch 37, global step 1900: 'train_loss' reached 0.79722 (best 0.79722), saving model to 'd:\\\\ly\\\\sEMG\\\\SIAT\\\\lag-llama\\\\lightning_logs\\\\version_200\\\\checkpoints\\\\epoch=37-step=1900.ckpt' as top 1\n"
     ]
    },
    {
     "name": "stdout",
     "output_type": "stream",
     "text": [
      "Epoch 38: |          | 50/? [00:01<00:00, 29.05it/s, v_num=200]"
     ]
    },
    {
     "name": "stderr",
     "output_type": "stream",
     "text": [
      "Epoch 38, global step 1950: 'train_loss' was not in top 1\n"
     ]
    },
    {
     "name": "stdout",
     "output_type": "stream",
     "text": [
      "Epoch 39: |          | 50/? [00:01<00:00, 29.11it/s, v_num=200]"
     ]
    },
    {
     "name": "stderr",
     "output_type": "stream",
     "text": [
      "Epoch 39, global step 2000: 'train_loss' reached 0.70100 (best 0.70100), saving model to 'd:\\\\ly\\\\sEMG\\\\SIAT\\\\lag-llama\\\\lightning_logs\\\\version_200\\\\checkpoints\\\\epoch=39-step=2000.ckpt' as top 1\n"
     ]
    },
    {
     "name": "stdout",
     "output_type": "stream",
     "text": [
      "Epoch 40: |          | 50/? [00:01<00:00, 29.30it/s, v_num=200]"
     ]
    },
    {
     "name": "stderr",
     "output_type": "stream",
     "text": [
      "Epoch 40, global step 2050: 'train_loss' was not in top 1\n"
     ]
    },
    {
     "name": "stdout",
     "output_type": "stream",
     "text": [
      "Epoch 41: |          | 50/? [00:01<00:00, 29.10it/s, v_num=200]"
     ]
    },
    {
     "name": "stderr",
     "output_type": "stream",
     "text": [
      "Epoch 41, global step 2100: 'train_loss' reached 0.64479 (best 0.64479), saving model to 'd:\\\\ly\\\\sEMG\\\\SIAT\\\\lag-llama\\\\lightning_logs\\\\version_200\\\\checkpoints\\\\epoch=41-step=2100.ckpt' as top 1\n"
     ]
    },
    {
     "name": "stdout",
     "output_type": "stream",
     "text": [
      "Epoch 42: |          | 50/? [00:01<00:00, 29.08it/s, v_num=200]"
     ]
    },
    {
     "name": "stderr",
     "output_type": "stream",
     "text": [
      "Epoch 42, global step 2150: 'train_loss' was not in top 1\n"
     ]
    },
    {
     "name": "stdout",
     "output_type": "stream",
     "text": [
      "Epoch 43: |          | 50/? [00:01<00:00, 29.34it/s, v_num=200]"
     ]
    },
    {
     "name": "stderr",
     "output_type": "stream",
     "text": [
      "Epoch 43, global step 2200: 'train_loss' was not in top 1\n"
     ]
    },
    {
     "name": "stdout",
     "output_type": "stream",
     "text": [
      "Epoch 44: |          | 50/? [00:01<00:00, 28.49it/s, v_num=200]"
     ]
    },
    {
     "name": "stderr",
     "output_type": "stream",
     "text": [
      "Epoch 44, global step 2250: 'train_loss' was not in top 1\n"
     ]
    },
    {
     "name": "stdout",
     "output_type": "stream",
     "text": [
      "Epoch 45: |          | 50/? [00:01<00:00, 28.41it/s, v_num=200]"
     ]
    },
    {
     "name": "stderr",
     "output_type": "stream",
     "text": [
      "Epoch 45, global step 2300: 'train_loss' was not in top 1\n"
     ]
    },
    {
     "name": "stdout",
     "output_type": "stream",
     "text": [
      "Epoch 46: |          | 50/? [00:01<00:00, 28.75it/s, v_num=200]"
     ]
    },
    {
     "name": "stderr",
     "output_type": "stream",
     "text": [
      "Epoch 46, global step 2350: 'train_loss' was not in top 1\n"
     ]
    },
    {
     "name": "stdout",
     "output_type": "stream",
     "text": [
      "Epoch 47: |          | 50/? [00:01<00:00, 28.99it/s, v_num=200]"
     ]
    },
    {
     "name": "stderr",
     "output_type": "stream",
     "text": [
      "Epoch 47, global step 2400: 'train_loss' was not in top 1\n"
     ]
    },
    {
     "name": "stdout",
     "output_type": "stream",
     "text": [
      "Epoch 48: |          | 50/? [00:01<00:00, 28.66it/s, v_num=200]"
     ]
    },
    {
     "name": "stderr",
     "output_type": "stream",
     "text": [
      "Epoch 48, global step 2450: 'train_loss' reached 0.63825 (best 0.63825), saving model to 'd:\\\\ly\\\\sEMG\\\\SIAT\\\\lag-llama\\\\lightning_logs\\\\version_200\\\\checkpoints\\\\epoch=48-step=2450.ckpt' as top 1\n"
     ]
    },
    {
     "name": "stdout",
     "output_type": "stream",
     "text": [
      "Epoch 49: |          | 50/? [00:01<00:00, 29.46it/s, v_num=200]"
     ]
    },
    {
     "name": "stderr",
     "output_type": "stream",
     "text": [
      "Epoch 49, global step 2500: 'train_loss' reached 0.63206 (best 0.63206), saving model to 'd:\\\\ly\\\\sEMG\\\\SIAT\\\\lag-llama\\\\lightning_logs\\\\version_200\\\\checkpoints\\\\epoch=49-step=2500.ckpt' as top 1\n",
      "`Trainer.fit` stopped: `max_epochs=50` reached.\n"
     ]
    },
    {
     "name": "stdout",
     "output_type": "stream",
     "text": [
      "Epoch 49: |          | 50/? [00:01<00:00, 26.19it/s, v_num=200]"
     ]
    },
    {
     "name": "stderr",
     "output_type": "stream",
     "text": [
      "d:\\Anaconda3\\envs\\SIAT-ModelTest\\Lib\\site-packages\\lightning\\fabric\\utilities\\cloud_io.py:56: You are using `torch.load` with `weights_only=False` (the current default value), which uses the default pickle module implicitly. It is possible to construct malicious pickle data which will execute arbitrary code during unpickling (See https://github.com/pytorch/pytorch/blob/main/SECURITY.md#untrusted-models for more details). In a future release, the default value for `weights_only` will be flipped to `True`. This limits the functions that could be executed during unpickling. Arbitrary objects will no longer be allowed to be loaded via this mode unless they are explicitly allowlisted by the user via `torch.serialization.add_safe_globals`. We recommend you start setting `weights_only=True` for any use case where you don't have full control of the loaded file. Please open an issue on GitHub for any issues related to this experimental feature.\n"
     ]
    },
    {
     "name": "stdout",
     "output_type": "stream",
     "text": [
      "\n"
     ]
    }
   ],
   "source": [
    "predictor = estimator.train(train_dataset, cache_data=True)"
   ]
  },
  {
   "cell_type": "code",
   "execution_count": 1831,
   "metadata": {},
   "outputs": [
    {
     "name": "stderr",
     "output_type": "stream",
     "text": [
      "Forecasting batches: 1it [00:01,  1.39s/it]\n",
      "Ground truth: 1it [00:00, ?it/s]\n"
     ]
    }
   ],
   "source": [
    "forecast_it, ts_it = make_evaluation_predictions(\n",
    "    dataset=test_dataset,\n",
    "    predictor=predictor,\n",
    "    num_samples=num_samples\n",
    ")\n",
    "forecasts = list(tqdm(forecast_it, desc=\"Forecasting batches\"))\n",
    "tss = list(tqdm(ts_it, desc=\"Ground truth\"))"
   ]
  },
  {
   "cell_type": "code",
   "execution_count": 1832,
   "metadata": {},
   "outputs": [
    {
     "data": {
      "image/png": "[encoded data removed]",
      "text/plain": [
       "<Figure size 2000x1500 with 1 Axes>"
      ]
     },
     "metadata": {},
     "output_type": "display_data"
    }
   ],
   "source": [
    "import matplotlib.pyplot as plt\n",
    "plt.figure(figsize=(20, 15))\n",
    "plt.rcParams.update({'font.size': 15})\n",
    "for idx, (forecast, ts) in enumerate(zip(forecasts, tss)):\n",
    "    ax = plt.subplot(4, 2, idx+1)\n",
    "\n",
    "    plt.plot(ts[-4 * prediction_length:].to_timestamp(), label=\"target\")\n",
    "    forecast.plot( color='g')\n",
    "    ax.set_xticks([])\n",
    "    ax.set_title(forecast.item_id)\n",
    "    ax.set_xlabel('Time (seconds.milliseconds)')\n",
    "    # ax.set_ylabel('Angle (°)')\n",
    "    ax.set_ylabel('Torque (Nm)')\n",
    "\n",
    "plt.gcf().tight_layout()\n",
    "plt.legend()\n",
    "plt.show()"
   ]
  },
  {
   "cell_type": "code",
   "execution_count": 1835,
   "metadata": {},
   "outputs": [
    {
     "name": "stderr",
     "output_type": "stream",
     "text": [
      "Running evaluation: 1it [00:00, 200.50it/s]"
     ]
    },
    {
     "name": "stdout",
     "output_type": "stream",
     "text": [
      "prediction_length: 128\n",
      "context_length:  512\n",
      "device:  cuda\n",
      "num_samples:  20\n",
      "epoch:  50\n",
      "CRPS: 1.223745831377557\n",
      "RMSE: 35.8253532099432\n"
     ]
    },
    {
     "name": "stderr",
     "output_type": "stream",
     "text": [
      "\n"
     ]
    },
    {
     "data": {
      "text/plain": [
       "{'MSE': 1283.4559326171875,\n",
       " 'abs_error': 4307.90234375,\n",
       " 'abs_target_sum': 2716.169677734375,\n",
       " 'abs_target_mean': 21.220075607299805,\n",
       " 'seasonal_error': 2.8453094150537286,\n",
       " 'MASE': 11.82841025390251,\n",
       " 'MAPE': 14.419305801391602,\n",
       " 'sMAPE': 1.4764988422393799,\n",
       " 'MSIS': 111.56478752453607,\n",
       " 'num_masked_target_values': 0.0,\n",
       " 'QuantileLoss[0.1]': 1949.51676902771,\n",
       " 'Coverage[0.1]': 0.3203125,\n",
       " 'QuantileLoss[0.2]': 2896.7311725616455,\n",
       " 'Coverage[0.2]': 0.3515625,\n",
       " 'QuantileLoss[0.3]': 3832.20700340271,\n",
       " 'Coverage[0.3]': 0.3671875,\n",
       " 'QuantileLoss[0.4]': 4322.011589431762,\n",
       " 'Coverage[0.4]': 0.3828125,\n",
       " 'QuantileLoss[0.5]': 4307.9023896455765,\n",
       " 'Coverage[0.5]': 0.40625,\n",
       " 'QuantileLoss[0.6]': 4237.304783725738,\n",
       " 'Coverage[0.6]': 0.4140625,\n",
       " 'QuantileLoss[0.7]': 3647.265186595917,\n",
       " 'Coverage[0.7]': 0.4453125,\n",
       " 'QuantileLoss[0.8]': 2787.5241880893705,\n",
       " 'Coverage[0.8]': 0.6171875,\n",
       " 'QuantileLoss[0.9]': 1934.6488014936447,\n",
       " 'Coverage[0.9]': 0.734375,\n",
       " 'RMSE': 35.8253532099432,\n",
       " 'NRMSE': 1.6882764167729503,\n",
       " 'ND': 1.5860210719027426,\n",
       " 'wQuantileLoss[0.1]': 0.7177448393628526,\n",
       " 'wQuantileLoss[0.2]': 1.0664765151851197,\n",
       " 'wQuantileLoss[0.3]': 1.4108864533821208,\n",
       " 'wQuantileLoss[0.4]': 1.5912156095626766,\n",
       " 'wQuantileLoss[0.5]': 1.5860210887999109,\n",
       " 'wQuantileLoss[0.6]': 1.5600294850725893,\n",
       " 'wQuantileLoss[0.7]': 1.3427972547128175,\n",
       " 'wQuantileLoss[0.8]': 1.0262702698362034,\n",
       " 'wQuantileLoss[0.9]': 0.7122709664837226,\n",
       " 'mean_absolute_QuantileLoss': 3323.9013204415637,\n",
       " 'mean_wQuantileLoss': 1.223745831377557,\n",
       " 'MAE_Coverage': 0.28576388888888893,\n",
       " 'OWA': nan}"
      ]
     },
     "execution_count": 1835,
     "metadata": {},
     "output_type": "execute_result"
    }
   ],
   "source": [
    "evaluator = Evaluator()\n",
    "agg_metrics, ts_metrics = evaluator(iter(tss), iter(forecasts))\n",
    "\n",
    "print(\"prediction_length:\", prediction_length)\n",
    "print(\"context_length: \", context_length)\n",
    "print(\"device: \", device)\n",
    "print(\"num_samples: \", num_samples)\n",
    "print(\"epoch: \", epoch)\n",
    "\n",
    "print(\"CRPS:\", agg_metrics['mean_wQuantileLoss'])\n",
    "print(\"RMSE:\", agg_metrics['RMSE'])\n",
    "agg_metrics"
   ]
  }
 ],
 "metadata": {
  "kernelspec": {
   "display_name": "SIAT-ModelTest",
   "language": "python",
   "name": "python3"
  },
  "language_info": {
   "codemirror_mode": {
    "name": "ipython",
    "version": 3
   },
   "file_extension": ".py",
   "mimetype": "text/x-python",
   "name": "python",
   "nbconvert_exporter": "python",
   "pygments_lexer": "ipython3",
   "version": "3.11.10"
  }
 },
 "nbformat": 4,
 "nbformat_minor": 2
}
