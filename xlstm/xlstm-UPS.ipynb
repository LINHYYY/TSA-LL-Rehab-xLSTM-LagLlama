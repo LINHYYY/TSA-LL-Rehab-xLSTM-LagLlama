{
 "cells": [
  {
   "cell_type": "code",
   "execution_count": 1,
   "metadata": {},
   "outputs": [
    {
     "name": "stdout",
     "output_type": "stream",
     "text": [
      "Using device: cuda\n"
     ]
    }
   ],
   "source": [
    "import torch\n",
    "\n",
    "device = torch.device(\"cuda\" if torch.cuda.is_available() else \"cpu\")\n",
    "print(f\"Using device: {device}\")"
   ]
  },
  {
   "cell_type": "code",
   "execution_count": 2,
   "metadata": {},
   "outputs": [],
   "source": [
    "import torch\n",
    "import torch.nn as nn\n",
    "from torch.utils.data import TensorDataset, DataLoader\n",
    "from sklearn.preprocessing import MinMaxScaler\n",
    "from torchxlstm import sLSTM, mLSTM, xLSTM \n",
    "import pandas as pd\n",
    "import matplotlib.pyplot as plt\n",
    "from tqdm import tqdm\n",
    "import numpy as np\n",
    "import scipy.io\n",
    "\n",
    "# 2024.10.25 UPS torque\n",
    "# \n",
    "# \n",
    "\n",
    "# 读取第一个上传的 .mat 文件以检查其内容   \n",
    "emg_features_mat_path = 'D:\\\\ly\\\\sEMG\\\\SIAT-UPS\\\\emg_features_examples.mat'\n",
    "emg_features_data = scipy.io.loadmat(emg_features_mat_path)"
   ]
  },
  {
   "cell_type": "code",
   "execution_count": 3,
   "metadata": {},
   "outputs": [
    {
     "data": {
      "text/plain": [
       "(19952, 19952, 19952)"
      ]
     },
     "execution_count": 3,
     "metadata": {},
     "output_type": "execute_result"
    }
   ],
   "source": [
    "sEMG_data = emg_features_data['examples']\n",
    "angles = emg_features_data['angle_labels']\n",
    "torques = emg_features_data['torque_labels']\n",
    "\n",
    "sEMG_values = sEMG_data.astype('float32')\n",
    "sEMG_scaler = MinMaxScaler(feature_range=(0, 1))\n",
    "sEMG_normalized = np.zeros_like(sEMG_data)\n",
    "for i in range(9):\n",
    "    scaler = MinMaxScaler(feature_range=(0, 1))\n",
    "    sEMG_normalized[:, i, :] = scaler.fit_transform(sEMG_data[:, i, :])\n",
    "\n",
    "joint_angles_values = angles.astype('float32')\n",
    "angles_scaler = MinMaxScaler(feature_range=(0, 1))\n",
    "angles_normalized = angles_scaler.fit_transform(joint_angles_values)\n",
    "\n",
    "joint_torques_values = torques.astype('float32')\n",
    "torques_scaler = MinMaxScaler(feature_range=(0, 1))\n",
    "torques_normalized = torques_scaler.fit_transform(joint_torques_values)\n",
    "\n",
    "len(sEMG_normalized), len(angles_normalized), len(torques_normalized)\n"
   ]
  },
  {
   "cell_type": "code",
   "execution_count": 4,
   "metadata": {},
   "outputs": [
    {
     "name": "stdout",
     "output_type": "stream",
     "text": [
      "The history saving thread hit an unexpected error (OperationalError('database is locked')).History will not be written to the database.\n"
     ]
    },
    {
     "data": {
      "text/plain": [
       "(15961, 3991, 15961, 3991, 15961, 3991)"
      ]
     },
     "execution_count": 4,
     "metadata": {},
     "output_type": "execute_result"
    }
   ],
   "source": [
    "# 分割训练集和测试集\n",
    "train_size = int(len(sEMG_normalized) * 0.8)\n",
    "test_size = len(sEMG_normalized) - train_size\n",
    "\n",
    "train_sEMG = sEMG_normalized[:train_size]\n",
    "test_sEMG = sEMG_normalized[train_size:]\n",
    "\n",
    "train_angles = angles_normalized[:train_size]\n",
    "test_angles = angles_normalized[train_size:]\n",
    "\n",
    "train_torques = torques_normalized[:train_size]\n",
    "test_torques = torques_normalized[train_size:]\n",
    "\n",
    "len(train_sEMG), len(test_sEMG), len(train_angles), len(test_angles), len(train_torques), len(test_torques)"
   ]
  },
  {
   "cell_type": "code",
   "execution_count": 5,
   "metadata": {},
   "outputs": [
    {
     "name": "stderr",
     "output_type": "stream",
     "text": [
      "C:\\Users\\linhy\\AppData\\Local\\Temp\\ipykernel_30196\\1582126785.py:7: UserWarning: Creating a tensor from a list of numpy.ndarrays is extremely slow. Please consider converting the list to a single numpy.ndarray with numpy.array() before converting to a tensor. (Triggered internally at C:\\actions-runner\\_work\\pytorch\\pytorch\\builder\\windows\\pytorch\\torch\\csrc\\utils\\tensor_new.cpp:281.)\n",
      "  return torch.tensor(dataX, dtype=torch.float32), torch.tensor(dataY, dtype=torch.float32)\n"
     ]
    },
    {
     "name": "stdout",
     "output_type": "stream",
     "text": [
      "Training data shape: torch.Size([14036, 1926, 9, 6]) torch.Size([14036, 8])\n",
      "Testing data shape: torch.Size([2066, 1926, 9, 6]) torch.Size([2066, 8])\n"
     ]
    }
   ],
   "source": [
    "def create_dataset(sEMG_data, angles_data, seq_len):\n",
    "    dataX, dataY = [], []\n",
    "    for i in range(len(sEMG_data) - seq_len + 1):\n",
    "        a = sEMG_data[i:(i + seq_len)]\n",
    "        dataX.append(a)\n",
    "        dataY.append(angles_data[i + seq_len - 1])\n",
    "    return torch.tensor(dataX, dtype=torch.float32), torch.tensor(dataY, dtype=torch.float32)\n",
    "\n",
    "\n",
    "# UPS torques24.10.24\n",
    "\n",
    "seq_len = 1926  # SIAT论文P4  a total of nine-channel sEMG signals were collected by using a wireless acquisition system sampled at 1926 Hz\n",
    "trainX, trainY = create_dataset(train_sEMG, train_torques, seq_len)  \n",
    "testX, testY = create_dataset(test_sEMG, test_torques, seq_len)\n",
    "\n",
    "print(\"Training data shape:\", trainX.shape, trainY.shape)\n",
    "print(\"Testing data shape:\", testX.shape, testY.shape)\n",
    "\n",
    "\n",
    "# X_train, X_test, y_angles_train, y_angles_test, y_torques_train, y_torques_test\n",
    "# Create data loaders\n",
    "train_dataset = TensorDataset(trainX, trainY)\n",
    "test_dataset = TensorDataset(testX, testY)\n",
    "\n",
    "train_loader = DataLoader(train_dataset, batch_size=64, shuffle=True, pin_memory=True)\n",
    "test_loader = DataLoader(test_dataset, batch_size=64, shuffle=False, pin_memory=True)"
   ]
  },
  {
   "cell_type": "code",
   "execution_count": 6,
   "metadata": {},
   "outputs": [
    {
     "name": "stdout",
     "output_type": "stream",
     "text": [
      "Using device: cuda\n"
     ]
    }
   ],
   "source": [
    "device = torch.device(\"cuda\" if torch.cuda.is_available() else \"cpu\")\n",
    "print(f\"Using device: {device}\")\n",
    "\n",
    "class EMGModel(nn.Module):\n",
    "    def __init__(self, input_channels, input_features, hidden_size, num_heads, model_type):\n",
    "        super(EMGModel, self).__init__()\n",
    "        self.input_projection = nn.Linear(input_channels * input_features, hidden_size)\n",
    "        \n",
    "        if model_type == 'xLSTM':\n",
    "            self.rnn = xLSTM(hidden_size, hidden_size, num_heads, batch_first=True, layers='msm')\n",
    "        elif model_type == 'LSTM':\n",
    "            self.rnn = nn.LSTM(hidden_size, hidden_size, batch_first=True)\n",
    "        elif model_type == 'sLSTM':\n",
    "            self.rnn = sLSTM(hidden_size, hidden_size, num_heads, batch_first=True)\n",
    "        elif model_type == 'mLSTM':\n",
    "            self.rnn = mLSTM(hidden_size, hidden_size, num_heads, batch_first=True)\n",
    "        \n",
    "        self.output = nn.Linear(hidden_size, 8)  # 假设我们预测单个关节角度\n",
    "    \n",
    "    def forward(self, x):\n",
    "        batch_size, seq_len, input_channels, input_features = x.size()\n",
    "        x = x.view(batch_size, seq_len, -1)\n",
    "        x = self.input_projection(x)\n",
    "        \n",
    "        if isinstance(self.rnn, nn.LSTM):\n",
    "            x, _ = self.rnn(x)\n",
    "        else:\n",
    "            x, _ = self.rnn(x)\n",
    "        \n",
    "        x = self.output(x[:, -1, :])\n",
    "        return x\n",
    "    \n",
    "# 定义模型\n",
    "input_channels = 9  # 电极数\n",
    "input_features = 6  # 特征数\n",
    "hidden_size = 32\n",
    "num_heads = 2\n",
    "\n",
    "models = {\n",
    "    \"LSTM\": EMGModel(input_channels, input_features, hidden_size, num_heads, 'LSTM'),\n",
    "    \"sLSTM\": EMGModel(input_channels, input_features, hidden_size, num_heads, 'sLSTM'),\n",
    "    \"mLSTM\": EMGModel(input_channels, input_features, hidden_size, num_heads, 'mLSTM'),\n",
    "    \"xLSTM\": EMGModel(input_channels, input_features, hidden_size, num_heads, 'xLSTM'),\n",
    "}"
   ]
  },
  {
   "cell_type": "code",
   "execution_count": 7,
   "metadata": {},
   "outputs": [
    {
     "name": "stderr",
     "output_type": "stream",
     "text": [
      "Training LSTM:   5%|▌         | 1/20 [00:03<00:59,  3.13s/it]"
     ]
    },
    {
     "name": "stdout",
     "output_type": "stream",
     "text": [
      "0.15025021913258862\n"
     ]
    },
    {
     "name": "stderr",
     "output_type": "stream",
     "text": [
      "Training LSTM:  10%|█         | 2/20 [00:06<00:54,  3.04s/it]"
     ]
    },
    {
     "name": "stdout",
     "output_type": "stream",
     "text": [
      "0.10834384747625786\n"
     ]
    },
    {
     "name": "stderr",
     "output_type": "stream",
     "text": [
      "Training LSTM:  15%|█▌        | 3/20 [00:09<00:51,  3.03s/it]"
     ]
    },
    {
     "name": "stdout",
     "output_type": "stream",
     "text": [
      "0.10223756515945334\n"
     ]
    },
    {
     "name": "stderr",
     "output_type": "stream",
     "text": [
      "Training LSTM:  20%|██        | 4/20 [00:12<00:48,  3.02s/it]"
     ]
    },
    {
     "name": "stdout",
     "output_type": "stream",
     "text": [
      "0.09782822888090095\n"
     ]
    },
    {
     "name": "stderr",
     "output_type": "stream",
     "text": [
      "Training LSTM:  25%|██▌       | 5/20 [00:15<00:45,  3.04s/it]"
     ]
    },
    {
     "name": "stdout",
     "output_type": "stream",
     "text": [
      "0.09193566057626433\n"
     ]
    },
    {
     "name": "stderr",
     "output_type": "stream",
     "text": [
      "Training LSTM:  30%|███       | 6/20 [00:18<00:42,  3.05s/it]"
     ]
    },
    {
     "name": "stdout",
     "output_type": "stream",
     "text": [
      "0.08532161539668234\n"
     ]
    },
    {
     "name": "stderr",
     "output_type": "stream",
     "text": [
      "Training LSTM:  35%|███▌      | 7/20 [00:21<00:39,  3.06s/it]"
     ]
    },
    {
     "name": "stdout",
     "output_type": "stream",
     "text": [
      "0.07937956900899552\n"
     ]
    },
    {
     "name": "stderr",
     "output_type": "stream",
     "text": [
      "Training LSTM:  40%|████      | 8/20 [00:24<00:36,  3.06s/it]"
     ]
    },
    {
     "name": "stdout",
     "output_type": "stream",
     "text": [
      "0.07645571216623817\n"
     ]
    },
    {
     "name": "stderr",
     "output_type": "stream",
     "text": [
      "Training LSTM:  45%|████▌     | 9/20 [00:27<00:33,  3.06s/it]"
     ]
    },
    {
     "name": "stdout",
     "output_type": "stream",
     "text": [
      "0.0719200838846934\n"
     ]
    },
    {
     "name": "stderr",
     "output_type": "stream",
     "text": [
      "Training LSTM:  50%|█████     | 10/20 [00:30<00:30,  3.06s/it]"
     ]
    },
    {
     "name": "stdout",
     "output_type": "stream",
     "text": [
      "0.0685003065507187\n"
     ]
    },
    {
     "name": "stderr",
     "output_type": "stream",
     "text": [
      "Training LSTM:  55%|█████▌    | 11/20 [00:33<00:27,  3.06s/it]"
     ]
    },
    {
     "name": "stdout",
     "output_type": "stream",
     "text": [
      "0.08198866327032442\n"
     ]
    },
    {
     "name": "stderr",
     "output_type": "stream",
     "text": [
      "Training LSTM:  60%|██████    | 12/20 [00:36<00:24,  3.05s/it]"
     ]
    },
    {
     "name": "stdout",
     "output_type": "stream",
     "text": [
      "0.07693204743070411\n"
     ]
    },
    {
     "name": "stderr",
     "output_type": "stream",
     "text": [
      "Training LSTM:  65%|██████▌   | 13/20 [00:39<00:21,  3.05s/it]"
     ]
    },
    {
     "name": "stdout",
     "output_type": "stream",
     "text": [
      "0.06794767666095582\n"
     ]
    },
    {
     "name": "stderr",
     "output_type": "stream",
     "text": [
      "Training LSTM:  70%|███████   | 14/20 [00:42<00:18,  3.05s/it]"
     ]
    },
    {
     "name": "stdout",
     "output_type": "stream",
     "text": [
      "0.07845867440072342\n"
     ]
    },
    {
     "name": "stderr",
     "output_type": "stream",
     "text": [
      "Training LSTM:  75%|███████▌  | 15/20 [00:45<00:15,  3.05s/it]"
     ]
    },
    {
     "name": "stdout",
     "output_type": "stream",
     "text": [
      "0.07168380494354051\n"
     ]
    },
    {
     "name": "stderr",
     "output_type": "stream",
     "text": [
      "Training LSTM:  80%|████████  | 16/20 [00:48<00:12,  3.05s/it]"
     ]
    },
    {
     "name": "stdout",
     "output_type": "stream",
     "text": [
      "0.06427431422377447\n"
     ]
    },
    {
     "name": "stderr",
     "output_type": "stream",
     "text": [
      "Training LSTM:  85%|████████▌ | 17/20 [00:51<00:09,  3.04s/it]"
     ]
    },
    {
     "name": "stdout",
     "output_type": "stream",
     "text": [
      "0.06286776566834561\n"
     ]
    },
    {
     "name": "stderr",
     "output_type": "stream",
     "text": [
      "Training LSTM:  90%|█████████ | 18/20 [00:54<00:06,  3.06s/it]"
     ]
    },
    {
     "name": "stdout",
     "output_type": "stream",
     "text": [
      "0.06152416116321904\n"
     ]
    },
    {
     "name": "stderr",
     "output_type": "stream",
     "text": [
      "Training LSTM:  95%|█████████▌| 19/20 [00:58<00:03,  3.06s/it]"
     ]
    },
    {
     "name": "stdout",
     "output_type": "stream",
     "text": [
      "0.06140972496304493\n"
     ]
    },
    {
     "name": "stderr",
     "output_type": "stream",
     "text": [
      "Training LSTM: 100%|██████████| 20/20 [01:01<00:00,  3.05s/it]"
     ]
    },
    {
     "name": "stdout",
     "output_type": "stream",
     "text": [
      "0.05780037030081837\n"
     ]
    },
    {
     "name": "stderr",
     "output_type": "stream",
     "text": [
      "\n"
     ]
    },
    {
     "data": {
      "image/png": "[encoded data removed]",
      "text/plain": [
       "<Figure size 640x480 with 1 Axes>"
      ]
     },
     "metadata": {},
     "output_type": "display_data"
    },
    {
     "name": "stdout",
     "output_type": "stream",
     "text": [
      "Returning from train_model: model type: <class '__main__.EMGModel'>, train_losses type: <class 'list'>\n"
     ]
    },
    {
     "name": "stderr",
     "output_type": "stream",
     "text": [
      "Training sLSTM:   5%|▌         | 1/20 [34:31<10:55:56, 2071.39s/it]"
     ]
    },
    {
     "name": "stdout",
     "output_type": "stream",
     "text": [
      "0.1503647937738\n"
     ]
    },
    {
     "name": "stderr",
     "output_type": "stream",
     "text": [
      "Training sLSTM:  10%|█         | 2/20 [1:08:52<10:19:35, 2065.32s/it]"
     ]
    },
    {
     "name": "stdout",
     "output_type": "stream",
     "text": [
      "0.12094925230825544\n"
     ]
    },
    {
     "name": "stderr",
     "output_type": "stream",
     "text": [
      "Training sLSTM:  15%|█▌        | 3/20 [1:42:55<9:42:14, 2054.97s/it] "
     ]
    },
    {
     "name": "stdout",
     "output_type": "stream",
     "text": [
      "0.11171079492559569\n"
     ]
    },
    {
     "name": "stderr",
     "output_type": "stream",
     "text": [
      "Training sLSTM:  20%|██        | 4/20 [2:17:08<9:07:49, 2054.34s/it]"
     ]
    },
    {
     "name": "stdout",
     "output_type": "stream",
     "text": [
      "0.103906207948772\n"
     ]
    },
    {
     "name": "stderr",
     "output_type": "stream",
     "text": [
      "Training sLSTM:  25%|██▌       | 5/20 [2:52:27<8:39:23, 2077.57s/it]"
     ]
    },
    {
     "name": "stdout",
     "output_type": "stream",
     "text": [
      "0.10314272990739311\n"
     ]
    },
    {
     "name": "stderr",
     "output_type": "stream",
     "text": [
      "Training sLSTM:  30%|███       | 6/20 [3:27:48<8:08:12, 2092.31s/it]"
     ]
    },
    {
     "name": "stdout",
     "output_type": "stream",
     "text": [
      "0.09974174534400741\n"
     ]
    },
    {
     "name": "stderr",
     "output_type": "stream",
     "text": [
      "Training sLSTM:  35%|███▌      | 7/20 [4:02:33<7:32:48, 2089.89s/it]"
     ]
    },
    {
     "name": "stdout",
     "output_type": "stream",
     "text": [
      "0.10433141004815531\n"
     ]
    },
    {
     "name": "stderr",
     "output_type": "stream",
     "text": [
      "Training sLSTM:  40%|████      | 8/20 [4:38:02<7:00:28, 2102.39s/it]"
     ]
    },
    {
     "name": "stdout",
     "output_type": "stream",
     "text": [
      "0.10748417352236485\n"
     ]
    },
    {
     "name": "stderr",
     "output_type": "stream",
     "text": [
      "Training sLSTM:  45%|████▌     | 9/20 [5:13:30<6:26:56, 2110.63s/it]"
     ]
    },
    {
     "name": "stdout",
     "output_type": "stream",
     "text": [
      "0.108634437065083\n"
     ]
    },
    {
     "name": "stderr",
     "output_type": "stream",
     "text": [
      "Training sLSTM:  50%|█████     | 10/20 [5:48:20<5:50:42, 2104.26s/it]"
     ]
    },
    {
     "name": "stdout",
     "output_type": "stream",
     "text": [
      "0.09738862755679459\n"
     ]
    },
    {
     "name": "stderr",
     "output_type": "stream",
     "text": [
      "Training sLSTM:  55%|█████▌    | 11/20 [6:23:11<5:15:01, 2100.18s/it]"
     ]
    },
    {
     "name": "stdout",
     "output_type": "stream",
     "text": [
      "0.10049771075211422\n"
     ]
    },
    {
     "name": "stderr",
     "output_type": "stream",
     "text": [
      "Training sLSTM:  60%|██████    | 12/20 [6:57:21<4:37:58, 2084.83s/it]"
     ]
    },
    {
     "name": "stdout",
     "output_type": "stream",
     "text": [
      "0.09808651143211654\n"
     ]
    },
    {
     "name": "stderr",
     "output_type": "stream",
     "text": [
      "Training sLSTM:  65%|██████▌   | 13/20 [7:31:08<4:01:10, 2067.22s/it]"
     ]
    },
    {
     "name": "stdout",
     "output_type": "stream",
     "text": [
      "0.09246165625381515\n"
     ]
    },
    {
     "name": "stderr",
     "output_type": "stream",
     "text": [
      "Training sLSTM:  70%|███████   | 14/20 [8:05:15<3:26:07, 2061.18s/it]"
     ]
    },
    {
     "name": "stdout",
     "output_type": "stream",
     "text": [
      "0.09517027932421691\n"
     ]
    },
    {
     "name": "stderr",
     "output_type": "stream",
     "text": [
      "Training sLSTM:  75%|███████▌  | 15/20 [8:39:32<2:51:39, 2059.96s/it]"
     ]
    },
    {
     "name": "stdout",
     "output_type": "stream",
     "text": [
      "0.17751680013506987\n"
     ]
    },
    {
     "name": "stderr",
     "output_type": "stream",
     "text": [
      "Training sLSTM:  80%|████████  | 16/20 [9:13:11<2:16:30, 2047.69s/it]"
     ]
    },
    {
     "name": "stdout",
     "output_type": "stream",
     "text": [
      "0.11872308780972271\n"
     ]
    },
    {
     "name": "stderr",
     "output_type": "stream",
     "text": [
      "Training sLSTM:  85%|████████▌ | 17/20 [9:46:39<1:41:47, 2035.74s/it]"
     ]
    },
    {
     "name": "stdout",
     "output_type": "stream",
     "text": [
      "0.11776595865796471\n"
     ]
    },
    {
     "name": "stderr",
     "output_type": "stream",
     "text": [
      "Training sLSTM:  90%|█████████ | 18/20 [10:20:46<1:07:58, 2039.15s/it]"
     ]
    },
    {
     "name": "stdout",
     "output_type": "stream",
     "text": [
      "0.11534478701588309\n"
     ]
    },
    {
     "name": "stderr",
     "output_type": "stream",
     "text": [
      "Training sLSTM:  95%|█████████▌| 19/20 [10:55:03<34:04, 2044.32s/it]  "
     ]
    },
    {
     "name": "stdout",
     "output_type": "stream",
     "text": [
      "0.1224510805190385\n"
     ]
    },
    {
     "name": "stderr",
     "output_type": "stream",
     "text": [
      "Training sLSTM: 100%|██████████| 20/20 [11:28:47<00:00, 2066.40s/it]"
     ]
    },
    {
     "name": "stdout",
     "output_type": "stream",
     "text": [
      "0.11251553923493116\n"
     ]
    },
    {
     "name": "stderr",
     "output_type": "stream",
     "text": [
      "\n"
     ]
    },
    {
     "data": {
      "image/png": "[encoded data removed]",
      "text/plain": [
       "<Figure size 640x480 with 1 Axes>"
      ]
     },
     "metadata": {},
     "output_type": "display_data"
    },
    {
     "name": "stdout",
     "output_type": "stream",
     "text": [
      "Returning from train_model: model type: <class '__main__.EMGModel'>, train_losses type: <class 'list'>\n"
     ]
    },
    {
     "name": "stderr",
     "output_type": "stream",
     "text": [
      "Training mLSTM:   5%|▌         | 1/20 [28:53<9:08:58, 1733.58s/it]"
     ]
    },
    {
     "name": "stdout",
     "output_type": "stream",
     "text": [
      "0.14377634676703646\n"
     ]
    },
    {
     "name": "stderr",
     "output_type": "stream",
     "text": [
      "Training mLSTM:  10%|█         | 2/20 [57:45<8:39:47, 1732.64s/it]"
     ]
    },
    {
     "name": "stdout",
     "output_type": "stream",
     "text": [
      "0.11631790529976922\n"
     ]
    },
    {
     "name": "stderr",
     "output_type": "stream",
     "text": [
      "Training mLSTM:  15%|█▌        | 3/20 [1:25:30<8:02:10, 1701.78s/it]"
     ]
    },
    {
     "name": "stdout",
     "output_type": "stream",
     "text": [
      "0.11096701432409789\n"
     ]
    },
    {
     "name": "stderr",
     "output_type": "stream",
     "text": [
      "Training mLSTM:  20%|██        | 4/20 [1:53:09<7:29:20, 1685.02s/it]"
     ]
    },
    {
     "name": "stdout",
     "output_type": "stream",
     "text": [
      "0.10320925997218156\n"
     ]
    },
    {
     "name": "stderr",
     "output_type": "stream",
     "text": [
      "Training mLSTM:  25%|██▌       | 5/20 [2:21:45<7:04:02, 1696.14s/it]"
     ]
    },
    {
     "name": "stdout",
     "output_type": "stream",
     "text": [
      "0.09785380277619897\n"
     ]
    },
    {
     "name": "stderr",
     "output_type": "stream",
     "text": [
      "Training mLSTM:  30%|███       | 6/20 [2:50:41<6:38:54, 1709.63s/it]"
     ]
    },
    {
     "name": "stdout",
     "output_type": "stream",
     "text": [
      "0.0951255430588641\n"
     ]
    },
    {
     "name": "stderr",
     "output_type": "stream",
     "text": [
      "Training mLSTM:  35%|███▌      | 7/20 [3:18:55<6:09:16, 1704.38s/it]"
     ]
    },
    {
     "name": "stdout",
     "output_type": "stream",
     "text": [
      "0.09301844329995958\n"
     ]
    },
    {
     "name": "stderr",
     "output_type": "stream",
     "text": [
      "Training mLSTM:  40%|████      | 8/20 [3:46:39<5:38:20, 1691.70s/it]"
     ]
    },
    {
     "name": "stdout",
     "output_type": "stream",
     "text": [
      "0.0895141120297519\n"
     ]
    },
    {
     "name": "stderr",
     "output_type": "stream",
     "text": [
      "Training mLSTM:  45%|████▌     | 9/20 [4:14:43<5:09:41, 1689.24s/it]"
     ]
    },
    {
     "name": "stdout",
     "output_type": "stream",
     "text": [
      "0.08645810307553996\n"
     ]
    },
    {
     "name": "stderr",
     "output_type": "stream",
     "text": [
      "Training mLSTM:  50%|█████     | 10/20 [4:43:23<4:43:05, 1698.58s/it]"
     ]
    },
    {
     "name": "stdout",
     "output_type": "stream",
     "text": [
      "0.08394348621520001\n"
     ]
    },
    {
     "name": "stderr",
     "output_type": "stream",
     "text": [
      "Training mLSTM:  55%|█████▌    | 11/20 [5:11:56<4:15:27, 1703.04s/it]"
     ]
    },
    {
     "name": "stdout",
     "output_type": "stream",
     "text": [
      "0.0821751484000151\n"
     ]
    },
    {
     "name": "stderr",
     "output_type": "stream",
     "text": [
      "Training mLSTM:  60%|██████    | 12/20 [5:39:39<3:45:27, 1690.96s/it]"
     ]
    },
    {
     "name": "stdout",
     "output_type": "stream",
     "text": [
      "0.08282730912144637\n"
     ]
    },
    {
     "name": "stderr",
     "output_type": "stream",
     "text": [
      "Training mLSTM:  65%|██████▌   | 13/20 [6:07:26<3:16:26, 1683.72s/it]"
     ]
    },
    {
     "name": "stdout",
     "output_type": "stream",
     "text": [
      "0.08020229365885749\n"
     ]
    },
    {
     "name": "stderr",
     "output_type": "stream",
     "text": [
      "Training mLSTM:  70%|███████   | 14/20 [6:36:00<2:49:17, 1692.83s/it]"
     ]
    },
    {
     "name": "stdout",
     "output_type": "stream",
     "text": [
      "0.08022414342514551\n"
     ]
    },
    {
     "name": "stderr",
     "output_type": "stream",
     "text": [
      "Training mLSTM:  75%|███████▌  | 15/20 [7:04:33<2:21:35, 1699.04s/it]"
     ]
    },
    {
     "name": "stdout",
     "output_type": "stream",
     "text": [
      "0.07883527008701025\n"
     ]
    },
    {
     "name": "stderr",
     "output_type": "stream",
     "text": [
      "Training mLSTM:  80%|████████  | 16/20 [7:32:25<1:52:43, 1690.83s/it]"
     ]
    },
    {
     "name": "stdout",
     "output_type": "stream",
     "text": [
      "0.07658453053192898\n"
     ]
    },
    {
     "name": "stderr",
     "output_type": "stream",
     "text": [
      "Training mLSTM:  85%|████████▌ | 17/20 [8:00:11<1:24:09, 1683.23s/it]"
     ]
    },
    {
     "name": "stdout",
     "output_type": "stream",
     "text": [
      "0.07398299336528022\n"
     ]
    },
    {
     "name": "stderr",
     "output_type": "stream",
     "text": [
      "Training mLSTM:  90%|█████████ | 18/20 [8:29:01<56:34, 1697.23s/it]  "
     ]
    },
    {
     "name": "stdout",
     "output_type": "stream",
     "text": [
      "0.07459095418717748\n"
     ]
    },
    {
     "name": "stderr",
     "output_type": "stream",
     "text": [
      "Training mLSTM:  95%|█████████▌| 19/20 [8:57:58<28:29, 1709.35s/it]"
     ]
    },
    {
     "name": "stdout",
     "output_type": "stream",
     "text": [
      "0.07601491747715505\n"
     ]
    },
    {
     "name": "stderr",
     "output_type": "stream",
     "text": [
      "Training mLSTM: 100%|██████████| 20/20 [9:25:51<00:00, 1697.59s/it]"
     ]
    },
    {
     "name": "stdout",
     "output_type": "stream",
     "text": [
      "0.2813715939074865\n"
     ]
    },
    {
     "name": "stderr",
     "output_type": "stream",
     "text": [
      "\n"
     ]
    },
    {
     "data": {
      "image/png": "[encoded data removed]",
      "text/plain": [
       "<Figure size 640x480 with 1 Axes>"
      ]
     },
     "metadata": {},
     "output_type": "display_data"
    },
    {
     "name": "stdout",
     "output_type": "stream",
     "text": [
      "Returning from train_model: model type: <class '__main__.EMGModel'>, train_losses type: <class 'list'>\n"
     ]
    },
    {
     "name": "stderr",
     "output_type": "stream",
     "text": [
      "Training xLSTM:   5%|▌         | 1/20 [1:30:19<28:36:07, 5419.36s/it]"
     ]
    },
    {
     "name": "stdout",
     "output_type": "stream",
     "text": [
      "0.156328686467759\n"
     ]
    },
    {
     "name": "stderr",
     "output_type": "stream",
     "text": [
      "Training xLSTM:  10%|█         | 2/20 [3:00:56<27:09:00, 5430.00s/it]"
     ]
    },
    {
     "name": "stdout",
     "output_type": "stream",
     "text": [
      "0.11725755407444119\n"
     ]
    },
    {
     "name": "stderr",
     "output_type": "stream",
     "text": [
      "Training xLSTM:  15%|█▌        | 3/20 [4:28:31<25:15:51, 5350.09s/it]"
     ]
    },
    {
     "name": "stdout",
     "output_type": "stream",
     "text": [
      "0.10881960071945171\n"
     ]
    },
    {
     "name": "stderr",
     "output_type": "stream",
     "text": [
      "Training xLSTM:  20%|██        | 4/20 [5:57:47<23:47:16, 5352.28s/it]"
     ]
    },
    {
     "name": "stdout",
     "output_type": "stream",
     "text": [
      "0.10065369230539158\n"
     ]
    },
    {
     "name": "stderr",
     "output_type": "stream",
     "text": [
      "Training xLSTM:  25%|██▌       | 5/20 [7:27:26<22:20:28, 5361.87s/it]"
     ]
    },
    {
     "name": "stdout",
     "output_type": "stream",
     "text": [
      "0.09808666080419677\n"
     ]
    },
    {
     "name": "stderr",
     "output_type": "stream",
     "text": [
      "Training xLSTM:  30%|███       | 6/20 [8:56:19<20:48:51, 5352.26s/it]"
     ]
    },
    {
     "name": "stdout",
     "output_type": "stream",
     "text": [
      "0.10029251100723233\n"
     ]
    },
    {
     "name": "stderr",
     "output_type": "stream",
     "text": [
      "Training xLSTM:  35%|███▌      | 7/20 [10:25:23<19:19:01, 5349.32s/it]"
     ]
    },
    {
     "name": "stdout",
     "output_type": "stream",
     "text": [
      "0.09012933169351567\n"
     ]
    },
    {
     "name": "stderr",
     "output_type": "stream",
     "text": [
      "Training xLSTM:  40%|████      | 8/20 [11:55:06<17:52:02, 5360.18s/it]"
     ]
    },
    {
     "name": "stdout",
     "output_type": "stream",
     "text": [
      "0.0869344509489239\n"
     ]
    },
    {
     "name": "stderr",
     "output_type": "stream",
     "text": [
      "Training xLSTM:  45%|████▌     | 9/20 [13:24:17<16:22:11, 5357.37s/it]"
     ]
    },
    {
     "name": "stdout",
     "output_type": "stream",
     "text": [
      "0.08265363827894996\n"
     ]
    },
    {
     "name": "stderr",
     "output_type": "stream",
     "text": [
      "Training xLSTM:  50%|█████     | 10/20 [14:53:09<14:51:35, 5349.51s/it]"
     ]
    },
    {
     "name": "stdout",
     "output_type": "stream",
     "text": [
      "0.07890487126975108\n"
     ]
    },
    {
     "name": "stderr",
     "output_type": "stream",
     "text": [
      "Training xLSTM:  55%|█████▌    | 11/20 [16:22:22<13:22:33, 5350.43s/it]"
     ]
    },
    {
     "name": "stdout",
     "output_type": "stream",
     "text": [
      "0.07198345800526501\n"
     ]
    },
    {
     "name": "stderr",
     "output_type": "stream",
     "text": [
      "Training xLSTM:  60%|██████    | 12/20 [17:52:10<11:54:56, 5362.03s/it]"
     ]
    },
    {
     "name": "stdout",
     "output_type": "stream",
     "text": [
      "0.07388263006252985\n"
     ]
    },
    {
     "name": "stderr",
     "output_type": "stream",
     "text": [
      "Training xLSTM:  65%|██████▌   | 13/20 [19:21:28<10:25:25, 5360.77s/it]"
     ]
    },
    {
     "name": "stdout",
     "output_type": "stream",
     "text": [
      "0.07378821249116164\n"
     ]
    },
    {
     "name": "stderr",
     "output_type": "stream",
     "text": [
      "Training xLSTM:  70%|███████   | 14/20 [20:50:07<8:54:47, 5347.99s/it] "
     ]
    },
    {
     "name": "stdout",
     "output_type": "stream",
     "text": [
      "0.47363870202347064\n"
     ]
    },
    {
     "name": "stderr",
     "output_type": "stream",
     "text": [
      "Training xLSTM:  75%|███████▌  | 15/20 [22:19:05<7:25:25, 5345.20s/it]"
     ]
    },
    {
     "name": "stdout",
     "output_type": "stream",
     "text": [
      "0.13995468368517183\n"
     ]
    },
    {
     "name": "stderr",
     "output_type": "stream",
     "text": [
      "Training xLSTM:  80%|████████  | 16/20 [23:49:08<5:57:30, 5362.56s/it]"
     ]
    },
    {
     "name": "stdout",
     "output_type": "stream",
     "text": [
      "0.11987092613600163\n"
     ]
    },
    {
     "name": "stderr",
     "output_type": "stream",
     "text": [
      "Training xLSTM:  85%|████████▌ | 17/20 [25:17:30<4:27:12, 5344.15s/it]"
     ]
    },
    {
     "name": "stdout",
     "output_type": "stream",
     "text": [
      "0.11598735840592761\n"
     ]
    },
    {
     "name": "stderr",
     "output_type": "stream",
     "text": [
      "Training xLSTM:  90%|█████████ | 18/20 [26:48:03<2:59:02, 5371.04s/it]"
     ]
    },
    {
     "name": "stdout",
     "output_type": "stream",
     "text": [
      "0.11364266976149698\n"
     ]
    },
    {
     "name": "stderr",
     "output_type": "stream",
     "text": [
      "Training xLSTM:  95%|█████████▌| 19/20 [28:19:35<1:30:07, 5407.39s/it]"
     ]
    },
    {
     "name": "stdout",
     "output_type": "stream",
     "text": [
      "0.11064572203181418\n"
     ]
    },
    {
     "name": "stderr",
     "output_type": "stream",
     "text": [
      "Training xLSTM: 100%|██████████| 20/20 [29:48:33<00:00, 5365.68s/it]  "
     ]
    },
    {
     "name": "stdout",
     "output_type": "stream",
     "text": [
      "0.10852787448444738\n"
     ]
    },
    {
     "name": "stderr",
     "output_type": "stream",
     "text": [
      "\n"
     ]
    },
    {
     "data": {
      "image/png": "[encoded data removed]",
      "text/plain": [
       "<Figure size 640x480 with 1 Axes>"
      ]
     },
     "metadata": {},
     "output_type": "display_data"
    },
    {
     "name": "stdout",
     "output_type": "stream",
     "text": [
      "Returning from train_model: model type: <class '__main__.EMGModel'>, train_losses type: <class 'list'>\n"
     ]
    },
    {
     "data": {
      "image/png": "[encoded data removed]",
      "text/plain": [
       "<Figure size 640x480 with 1 Axes>"
      ]
     },
     "metadata": {},
     "output_type": "display_data"
    },
    {
     "ename": "ValueError",
     "evalue": "non-broadcastable output operand with shape (16528,1) doesn't match the broadcast shape (16528,6)",
     "output_type": "error",
     "traceback": [
      "\u001b[1;31m---------------------------------------------------------------------------\u001b[0m",
      "\u001b[1;31mValueError\u001b[0m                                Traceback (most recent call last)",
      "Cell \u001b[1;32mIn[7], line 80\u001b[0m\n\u001b[0;32m     77\u001b[0m \u001b[38;5;66;03m# Plot predictions for each model\u001b[39;00m\n\u001b[0;32m     78\u001b[0m \u001b[38;5;28;01mfor\u001b[39;00m model_name, preds \u001b[38;5;129;01min\u001b[39;00m test_predictions\u001b[38;5;241m.\u001b[39mitems():\n\u001b[0;32m     79\u001b[0m     \u001b[38;5;66;03m# Inverse transform the predictions and actual values\u001b[39;00m\n\u001b[1;32m---> 80\u001b[0m     preds \u001b[38;5;241m=\u001b[39m \u001b[43mscaler\u001b[49m\u001b[38;5;241;43m.\u001b[39;49m\u001b[43minverse_transform\u001b[49m\u001b[43m(\u001b[49m\u001b[43mnp\u001b[49m\u001b[38;5;241;43m.\u001b[39;49m\u001b[43marray\u001b[49m\u001b[43m(\u001b[49m\u001b[43mpreds\u001b[49m\u001b[43m)\u001b[49m\u001b[38;5;241;43m.\u001b[39;49m\u001b[43mreshape\u001b[49m\u001b[43m(\u001b[49m\u001b[38;5;241;43m-\u001b[39;49m\u001b[38;5;241;43m1\u001b[39;49m\u001b[43m,\u001b[49m\u001b[43m \u001b[49m\u001b[38;5;241;43m1\u001b[39;49m\u001b[43m)\u001b[49m\u001b[43m)\u001b[49m\n\u001b[0;32m     81\u001b[0m     actual \u001b[38;5;241m=\u001b[39m scaler\u001b[38;5;241m.\u001b[39minverse_transform(testY\u001b[38;5;241m.\u001b[39mnumpy()\u001b[38;5;241m.\u001b[39mreshape(\u001b[38;5;241m-\u001b[39m\u001b[38;5;241m1\u001b[39m, \u001b[38;5;241m1\u001b[39m))\n\u001b[0;32m     83\u001b[0m     plt\u001b[38;5;241m.\u001b[39mfigure()\n",
      "File \u001b[1;32md:\\Anaconda3\\envs\\SIAT-ModelTest\\Lib\\site-packages\\sklearn\\preprocessing\\_data.py:574\u001b[0m, in \u001b[0;36mMinMaxScaler.inverse_transform\u001b[1;34m(self, X)\u001b[0m\n\u001b[0;32m    564\u001b[0m xp, _ \u001b[38;5;241m=\u001b[39m get_namespace(X)\n\u001b[0;32m    566\u001b[0m X \u001b[38;5;241m=\u001b[39m check_array(\n\u001b[0;32m    567\u001b[0m     X,\n\u001b[0;32m    568\u001b[0m     copy\u001b[38;5;241m=\u001b[39m\u001b[38;5;28mself\u001b[39m\u001b[38;5;241m.\u001b[39mcopy,\n\u001b[1;32m   (...)\u001b[0m\n\u001b[0;32m    571\u001b[0m     force_all_finite\u001b[38;5;241m=\u001b[39m\u001b[38;5;124m\"\u001b[39m\u001b[38;5;124mallow-nan\u001b[39m\u001b[38;5;124m\"\u001b[39m,\n\u001b[0;32m    572\u001b[0m )\n\u001b[1;32m--> 574\u001b[0m \u001b[43mX\u001b[49m\u001b[43m \u001b[49m\u001b[38;5;241;43m-\u001b[39;49m\u001b[38;5;241;43m=\u001b[39;49m\u001b[43m \u001b[49m\u001b[38;5;28;43mself\u001b[39;49m\u001b[38;5;241;43m.\u001b[39;49m\u001b[43mmin_\u001b[49m\n\u001b[0;32m    575\u001b[0m X \u001b[38;5;241m/\u001b[39m\u001b[38;5;241m=\u001b[39m \u001b[38;5;28mself\u001b[39m\u001b[38;5;241m.\u001b[39mscale_\n\u001b[0;32m    576\u001b[0m \u001b[38;5;28;01mreturn\u001b[39;00m X\n",
      "\u001b[1;31mValueError\u001b[0m: non-broadcastable output operand with shape (16528,1) doesn't match the broadcast shape (16528,6)"
     ]
    }
   ],
   "source": [
    "import math\n",
    "import torch.backends.cudnn as cudnn\n",
    "cudnn.benchmark = True\n",
    "# Training process\n",
    "def train_model(model, model_name, epochs, learning_rate, flag1, flag2):\n",
    "    model = model.to(device)\n",
    "    criterion = nn.MSELoss().to(device)\n",
    "    optimizer = torch.optim.Adam(model.parameters(), lr=learning_rate)\n",
    "\n",
    "    train_losses = []\n",
    "    for epoch in tqdm(range(epochs), desc=f'Training {model_name}'):\n",
    "        model.train()\n",
    "        epoch_loss = 0\n",
    "        for i, (inputs, targets) in enumerate(train_loader):\n",
    "            inputs, targets = inputs.to(device), targets.to(device)\n",
    "            optimizer.zero_grad()\n",
    "            outputs = model(inputs)\n",
    "            loss = criterion(outputs, targets)\n",
    "            loss.backward()\n",
    "            optimizer.step()\n",
    "\n",
    "            epoch_loss += loss.item()\n",
    "\n",
    "        torch.cuda.synchronize()\n",
    "        lossp = math.sqrt(epoch_loss / len(train_loader))\n",
    "        print(lossp)\n",
    "        train_losses.append(lossp)\n",
    "        torch.cuda.empty_cache()\n",
    "\n",
    "    plt.plot(train_losses, label=model_name)\n",
    "    plt.title(f'{model_name} {flag1} training loss for {flag2}')\n",
    "    plt.xlabel('Epochs')\n",
    "    plt.ylabel('RMSE Loss')\n",
    "    plt.legend()\n",
    "    plt.show()\n",
    "\n",
    "    print(f\"Returning from train_model: model type: {type(model)}, train_losses type: {type(train_losses)}\")\n",
    "    return model, train_losses\n",
    "\n",
    "# Train the models\n",
    "trained_models = {}\n",
    "all_train_losses = {}\n",
    "flag1 = 'torques'\n",
    "flag2 = 'UPS'\n",
    "for model_name, model in models.items():\n",
    "    trained_models[model_name], all_train_losses[model_name] = train_model(model, model_name, epochs=20, learning_rate=0.01, flag1=flag1, flag2=flag2)\n",
    "\n",
    "\n",
    "# Plot losses for each model\n",
    "plt.figure()\n",
    "for model_name, train_losses in all_train_losses.items():\n",
    "    plt.plot(train_losses, label=model_name)\n",
    "\n",
    "# Plot all model losses compared\n",
    "plt.title(f'All Models {flag1} Training Losses for {flag2}')\n",
    "plt.xlabel('Epochs')\n",
    "plt.ylabel('RMSE Loss')\n",
    "plt.legend()\n",
    "plt.show()\n",
    "\n",
    "# Evaluate models on test data\n",
    "def evaluate_model(model, data_loader):\n",
    "    model = model.to(device)\n",
    "    model.eval()\n",
    "    predictions = []\n",
    "    with torch.no_grad():\n",
    "        for inputs, _ in data_loader:\n",
    "            inputs = inputs.to(device)\n",
    "            outputs = model(inputs)\n",
    "            predictions.extend(outputs.cpu().numpy())\n",
    "    return predictions\n",
    "\n",
    "test_predictions = {}\n",
    "for model_name, model in trained_models.items():\n",
    "    test_predictions[model_name] = evaluate_model(model, test_loader)\n",
    "\n",
    "# Plot predictions for each model\n",
    "for model_name, preds in test_predictions.items():\n",
    "    # Inverse transform the predictions and actual values\n",
    "    preds = scaler.inverse_transform(np.array(preds).reshape(-1, 1))\n",
    "    actual = scaler.inverse_transform(testY.numpy().reshape(-1, 1))\n",
    "\n",
    "    plt.figure()\n",
    "    plt.plot(actual, label='Actual')\n",
    "    plt.plot(preds, label=model_name + ' Predictions')\n",
    "    plt.title(f'{model_name} are predicted for {flag2} {flag1} with actual results')\n",
    "    plt.legend()\n",
    "    plt.show()\n",
    "\n",
    "\n",
    "# Plot all model predictions compared\n",
    "plt.figure()\n",
    "plt.plot(actual, label='Actual')\n",
    "for model_name, preds in test_predictions.items():\n",
    "    # Inverse transform the predictions \n",
    "    preds = scaler.inverse_transform(np.array(preds).reshape(-1, 1))\n",
    "    plt.plot(preds, label=model_name + ' Predictions')\n",
    "\n",
    "plt.title(f'All models are predicted for {flag2} {flag1} with actual results')\n",
    "plt.legend()\n",
    "plt.show()"
   ]
  }
 ],
 "metadata": {
  "kernelspec": {
   "display_name": "SIAT-ModelTest",
   "language": "python",
   "name": "python3"
  },
  "language_info": {
   "codemirror_mode": {
    "name": "ipython",
    "version": 3
   },
   "file_extension": ".py",
   "mimetype": "text/x-python",
   "name": "python",
   "nbconvert_exporter": "python",
   "pygments_lexer": "ipython3",
   "version": "3.11.10"
  }
 },
 "nbformat": 4,
 "nbformat_minor": 2
}
