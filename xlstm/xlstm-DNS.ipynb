{
 "cells": [
  {
   "cell_type": "code",
   "execution_count": 1,
   "metadata": {},
   "outputs": [
    {
     "name": "stdout",
     "output_type": "stream",
     "text": [
      "Using device: cuda\n"
     ]
    }
   ],
   "source": [
    "import torch\n",
    "\n",
    "device = torch.device(\"cuda\" if torch.cuda.is_available() else \"cpu\")\n",
    "print(f\"Using device: {device}\")"
   ]
  },
  {
   "cell_type": "code",
   "execution_count": 2,
   "metadata": {},
   "outputs": [],
   "source": [
    "import torch\n",
    "import torch.nn as nn\n",
    "from torch.utils.data import TensorDataset, DataLoader\n",
    "from sklearn.preprocessing import MinMaxScaler\n",
    "from torchxlstm import sLSTM, mLSTM, xLSTM \n",
    "import pandas as pd\n",
    "import matplotlib.pyplot as plt\n",
    "from tqdm import tqdm\n",
    "import numpy as np\n",
    "import scipy.io\n",
    "\n",
    "# \n",
    "# \n",
    "emg_features_mat_path = 'D:\\\\ly\\\\sEMG\\\\SIAT-DNS\\\\emg_features_examples.mat'\n",
    "emg_features_data = scipy.io.loadmat(emg_features_mat_path)"
   ]
  },
  {
   "cell_type": "code",
   "execution_count": 3,
   "metadata": {},
   "outputs": [
    {
     "data": {
      "text/plain": [
       "(22551, 22551, 22551)"
      ]
     },
     "execution_count": 3,
     "metadata": {},
     "output_type": "execute_result"
    }
   ],
   "source": [
    "sEMG_data = emg_features_data['examples']\n",
    "angles = emg_features_data['angle_labels']\n",
    "torques = emg_features_data['torque_labels']\n",
    "\n",
    "sEMG_values = sEMG_data.astype('float32')\n",
    "sEMG_scaler = MinMaxScaler(feature_range=(0, 1))\n",
    "sEMG_normalized = np.zeros_like(sEMG_data)\n",
    "for i in range(9):\n",
    "    scaler = MinMaxScaler(feature_range=(0, 1))\n",
    "    sEMG_normalized[:, i, :] = scaler.fit_transform(sEMG_data[:, i, :])\n",
    "\n",
    "joint_angles_values = angles.astype('float32')\n",
    "angles_scaler = MinMaxScaler(feature_range=(0, 1))\n",
    "angles_normalized = angles_scaler.fit_transform(joint_angles_values)\n",
    "\n",
    "joint_torques_values = torques.astype('float32')\n",
    "torques_scaler = MinMaxScaler(feature_range=(0, 1))\n",
    "torques_normalized = torques_scaler.fit_transform(joint_torques_values)\n",
    "\n",
    "len(sEMG_normalized), len(angles_normalized), len(torques_normalized)\n"
   ]
  },
  {
   "cell_type": "code",
   "execution_count": 4,
   "metadata": {},
   "outputs": [
    {
     "data": {
      "text/plain": [
       "(18040, 4511, 18040, 4511, 18040, 4511)"
      ]
     },
     "execution_count": 4,
     "metadata": {},
     "output_type": "execute_result"
    }
   ],
   "source": [
    "'''\n",
    "train_size = int(len(sEMG_normalized) * 0.2 * 0.8)\n",
    "test_size = int((len(sEMG_normalized)*0.2) - train_size)\n",
    "'''\n",
    "train_size = int(len(sEMG_normalized) * 0.8)\n",
    "test_size = len(sEMG_normalized) - train_size\n",
    "\n",
    "train_sEMG = sEMG_normalized[:train_size]\n",
    "test_sEMG = sEMG_normalized[train_size:(test_size+train_size)]\n",
    "\n",
    "train_angles = angles_normalized[:train_size]\n",
    "test_angles = angles_normalized[train_size:(test_size+train_size)]\n",
    "\n",
    "train_torques = torques_normalized[:train_size]\n",
    "test_torques = torques_normalized[train_size:(test_size+train_size)]\n",
    "\n",
    "len(train_sEMG), len(test_sEMG), len(train_angles), len(test_angles), len(train_torques), len(test_torques)"
   ]
  },
  {
   "cell_type": "code",
   "execution_count": null,
   "metadata": {},
   "outputs": [],
   "source": [
    "def create_dataset(sEMG_data, angles_data, seq_len):\n",
    "    dataX, dataY = [], []\n",
    "    for i in range(len(sEMG_data) - seq_len + 1):\n",
    "        a = sEMG_data[i:(i + seq_len)]\n",
    "        dataX.append(a)\n",
    "        dataY.append(angles_data[i + seq_len - 1])\n",
    "    return torch.tensor(dataX, dtype=torch.float32), torch.tensor(dataY, dtype=torch.float32)\n",
    "\n",
    "\n",
    "# DNS torques24.10.24\n",
    "\n",
    "seq_len = 1926  # SIAT论文P4  a total of nine-channel sEMG signals were collected by using a wireless acquisition system sampled at 1926 Hz\n",
    "trainX, trainY = create_dataset(train_sEMG, train_torques, seq_len)  \n",
    "testX, testY = create_dataset(test_sEMG, test_torques, seq_len)\n",
    "\n",
    "print(\"Training data shape:\", trainX.shape, trainY.shape)\n",
    "print(\"Testing data shape:\", testX.shape, testY.shape)\n",
    "\n",
    "\n",
    "# X_train, X_test, y_angles_train, y_angles_test, y_torques_train, y_torques_test\n",
    "# Create data loaders\n",
    "train_dataset = TensorDataset(trainX, trainY)\n",
    "test_dataset = TensorDataset(testX, testY)\n",
    "\n",
    "train_loader = DataLoader(train_dataset, batch_size=64, shuffle=True, pin_memory=True)\n",
    "test_loader = DataLoader(test_dataset, batch_size=64, shuffle=False, pin_memory=True)"
   ]
  },
  {
   "cell_type": "code",
   "execution_count": 6,
   "metadata": {},
   "outputs": [
    {
     "name": "stdout",
     "output_type": "stream",
     "text": [
      "Using device: cuda\n"
     ]
    }
   ],
   "source": [
    "device = torch.device(\"cuda\" if torch.cuda.is_available() else \"cpu\")\n",
    "print(f\"Using device: {device}\")\n",
    "\n",
    "class EMGModel(nn.Module):\n",
    "    def __init__(self, input_channels, input_features, hidden_size, num_heads, model_type):\n",
    "        super(EMGModel, self).__init__()\n",
    "        self.input_projection = nn.Linear(input_channels * input_features, hidden_size)\n",
    "        \n",
    "        if model_type == 'xLSTM':\n",
    "            self.rnn = xLSTM(hidden_size, hidden_size, num_heads, batch_first=True, layers='msm')\n",
    "        elif model_type == 'LSTM':\n",
    "            self.rnn = nn.LSTM(hidden_size, hidden_size, batch_first=True)\n",
    "        elif model_type == 'sLSTM':\n",
    "            self.rnn = sLSTM(hidden_size, hidden_size, num_heads, batch_first=True)\n",
    "        elif model_type == 'mLSTM':\n",
    "            self.rnn = mLSTM(hidden_size, hidden_size, num_heads, batch_first=True)\n",
    "        \n",
    "        self.output = nn.Linear(hidden_size, 8) \n",
    "    \n",
    "    def forward(self, x):\n",
    "        batch_size, seq_len, input_channels, input_features = x.size()\n",
    "        x = x.view(batch_size, seq_len, -1)\n",
    "        x = self.input_projection(x)\n",
    "        \n",
    "        if isinstance(self.rnn, nn.LSTM):\n",
    "            x, _ = self.rnn(x)\n",
    "        else:\n",
    "            x, _ = self.rnn(x)\n",
    "        \n",
    "        x = self.output(x[:, -1, :])\n",
    "        return x\n",
    "    \n",
    "# 定义模型\n",
    "input_channels = 9\n",
    "input_features = 6\n",
    "hidden_size = 32\n",
    "num_heads = 2\n",
    "\n",
    "models = {\n",
    "    \"LSTM\": EMGModel(input_channels, input_features, hidden_size, num_heads, 'LSTM'),\n",
    "    # \"sLSTM\": EMGModel(input_channels, input_features, hidden_size, num_heads, 'sLSTM'),\n",
    "    # \"mLSTM\": EMGModel(input_channels, input_features, hidden_size, num_heads, 'mLSTM'),\n",
    "    # \"xLSTM\": EMGModel(input_channels, input_features, hidden_size, num_heads, 'xLSTM'),\n",
    "}"
   ]
  },
  {
   "cell_type": "code",
   "execution_count": null,
   "metadata": {},
   "outputs": [
    {
     "name": "stderr",
     "output_type": "stream",
     "text": [
      "Training LSTM:   5%|▌         | 1/20 [00:03<01:13,  3.86s/it]"
     ]
    },
    {
     "name": "stdout",
     "output_type": "stream",
     "text": [
      "0.12923663363579646\n"
     ]
    },
    {
     "name": "stderr",
     "output_type": "stream",
     "text": [
      "Training LSTM:  10%|█         | 2/20 [00:07<01:06,  3.69s/it]"
     ]
    },
    {
     "name": "stdout",
     "output_type": "stream",
     "text": [
      "0.08915626100577999\n"
     ]
    },
    {
     "name": "stderr",
     "output_type": "stream",
     "text": [
      "Training LSTM:  15%|█▌        | 3/20 [00:11<01:02,  3.67s/it]"
     ]
    },
    {
     "name": "stdout",
     "output_type": "stream",
     "text": [
      "0.08153462835273384\n"
     ]
    },
    {
     "name": "stderr",
     "output_type": "stream",
     "text": [
      "Training LSTM:  20%|██        | 4/20 [00:14<00:58,  3.67s/it]"
     ]
    },
    {
     "name": "stdout",
     "output_type": "stream",
     "text": [
      "0.07521939717631006\n"
     ]
    },
    {
     "name": "stderr",
     "output_type": "stream",
     "text": [
      "Training LSTM:  25%|██▌       | 5/20 [00:18<00:54,  3.65s/it]"
     ]
    },
    {
     "name": "stdout",
     "output_type": "stream",
     "text": [
      "0.07100303800882952\n"
     ]
    },
    {
     "name": "stderr",
     "output_type": "stream",
     "text": [
      "Training LSTM:  30%|███       | 6/20 [00:21<00:50,  3.63s/it]"
     ]
    },
    {
     "name": "stdout",
     "output_type": "stream",
     "text": [
      "0.0674356262811724\n"
     ]
    },
    {
     "name": "stderr",
     "output_type": "stream",
     "text": [
      "Training LSTM:  35%|███▌      | 7/20 [00:25<00:47,  3.65s/it]"
     ]
    },
    {
     "name": "stdout",
     "output_type": "stream",
     "text": [
      "0.06382921485988226\n"
     ]
    },
    {
     "name": "stderr",
     "output_type": "stream",
     "text": [
      "Training LSTM:  40%|████      | 8/20 [00:29<00:43,  3.66s/it]"
     ]
    },
    {
     "name": "stdout",
     "output_type": "stream",
     "text": [
      "0.06130185551392349\n"
     ]
    },
    {
     "name": "stderr",
     "output_type": "stream",
     "text": [
      "Training LSTM:  45%|████▌     | 9/20 [00:32<00:39,  3.63s/it]"
     ]
    },
    {
     "name": "stdout",
     "output_type": "stream",
     "text": [
      "0.059308653551227594\n"
     ]
    },
    {
     "name": "stderr",
     "output_type": "stream",
     "text": [
      "Training LSTM:  50%|█████     | 10/20 [00:36<00:36,  3.62s/it]"
     ]
    },
    {
     "name": "stdout",
     "output_type": "stream",
     "text": [
      "0.06411140835930551\n"
     ]
    },
    {
     "name": "stderr",
     "output_type": "stream",
     "text": [
      "Training LSTM:  55%|█████▌    | 11/20 [00:40<00:32,  3.63s/it]"
     ]
    },
    {
     "name": "stdout",
     "output_type": "stream",
     "text": [
      "0.05707842054453934\n"
     ]
    },
    {
     "name": "stderr",
     "output_type": "stream",
     "text": [
      "Training LSTM:  60%|██████    | 12/20 [00:43<00:29,  3.65s/it]"
     ]
    },
    {
     "name": "stdout",
     "output_type": "stream",
     "text": [
      "0.05556936210982646\n"
     ]
    },
    {
     "name": "stderr",
     "output_type": "stream",
     "text": [
      "Training LSTM:  65%|██████▌   | 13/20 [00:47<00:25,  3.63s/it]"
     ]
    },
    {
     "name": "stdout",
     "output_type": "stream",
     "text": [
      "0.054413171946886434\n"
     ]
    },
    {
     "name": "stderr",
     "output_type": "stream",
     "text": [
      "Training LSTM:  70%|███████   | 14/20 [00:51<00:21,  3.65s/it]"
     ]
    },
    {
     "name": "stdout",
     "output_type": "stream",
     "text": [
      "0.053851307033302105\n"
     ]
    },
    {
     "name": "stderr",
     "output_type": "stream",
     "text": [
      "Training LSTM:  75%|███████▌  | 15/20 [00:54<00:18,  3.66s/it]"
     ]
    },
    {
     "name": "stdout",
     "output_type": "stream",
     "text": [
      "0.0520399836831383\n"
     ]
    },
    {
     "name": "stderr",
     "output_type": "stream",
     "text": [
      "Training LSTM:  80%|████████  | 16/20 [00:58<00:14,  3.67s/it]"
     ]
    },
    {
     "name": "stdout",
     "output_type": "stream",
     "text": [
      "0.05068525076904363\n"
     ]
    },
    {
     "name": "stderr",
     "output_type": "stream",
     "text": [
      "Training LSTM:  85%|████████▌ | 17/20 [01:02<00:10,  3.64s/it]"
     ]
    },
    {
     "name": "stdout",
     "output_type": "stream",
     "text": [
      "0.04937781650699301\n"
     ]
    },
    {
     "name": "stderr",
     "output_type": "stream",
     "text": [
      "Training LSTM:  90%|█████████ | 18/20 [01:05<00:07,  3.64s/it]"
     ]
    },
    {
     "name": "stdout",
     "output_type": "stream",
     "text": [
      "0.049432057513957094\n"
     ]
    },
    {
     "name": "stderr",
     "output_type": "stream",
     "text": [
      "Training LSTM:  95%|█████████▌| 19/20 [01:09<00:03,  3.64s/it]"
     ]
    },
    {
     "name": "stdout",
     "output_type": "stream",
     "text": [
      "0.048617142699935854\n"
     ]
    },
    {
     "name": "stderr",
     "output_type": "stream",
     "text": [
      "Training LSTM: 100%|██████████| 20/20 [01:12<00:00,  3.65s/it]"
     ]
    },
    {
     "name": "stdout",
     "output_type": "stream",
     "text": [
      "0.047869750300974366\n"
     ]
    },
    {
     "name": "stderr",
     "output_type": "stream",
     "text": [
      "\n"
     ]
    },
    {
     "data": {
      "image/png": "[encoded data removed]",
      "text/plain": [
       "<Figure size 640x480 with 1 Axes>"
      ]
     },
     "metadata": {},
     "output_type": "display_data"
    },
    {
     "name": "stdout",
     "output_type": "stream",
     "text": [
      "Returning from train_model: model type: <class '__main__.EMGModel'>, train_losses type: <class 'list'>\n"
     ]
    },
    {
     "name": "stderr",
     "output_type": "stream",
     "text": [
      "Training sLSTM:   5%|▌         | 1/20 [39:14<12:25:43, 2354.90s/it]"
     ]
    },
    {
     "name": "stdout",
     "output_type": "stream",
     "text": [
      "0.14717308361341958\n"
     ]
    },
    {
     "name": "stderr",
     "output_type": "stream",
     "text": [
      "Training sLSTM:  10%|█         | 2/20 [1:18:45<11:49:11, 2363.95s/it]"
     ]
    },
    {
     "name": "stdout",
     "output_type": "stream",
     "text": [
      "0.10391265409942856\n"
     ]
    },
    {
     "name": "stderr",
     "output_type": "stream",
     "text": [
      "Training sLSTM:  15%|█▌        | 3/20 [1:57:53<11:07:44, 2356.76s/it]"
     ]
    },
    {
     "name": "stdout",
     "output_type": "stream",
     "text": [
      "0.10311476236578274\n"
     ]
    },
    {
     "name": "stderr",
     "output_type": "stream",
     "text": [
      "Training sLSTM:  20%|██        | 4/20 [2:38:03<10:34:04, 2377.79s/it]"
     ]
    },
    {
     "name": "stdout",
     "output_type": "stream",
     "text": [
      "0.0973385054063462\n"
     ]
    },
    {
     "name": "stderr",
     "output_type": "stream",
     "text": [
      "Training sLSTM:  25%|██▌       | 5/20 [3:18:59<10:01:28, 2405.91s/it]"
     ]
    },
    {
     "name": "stdout",
     "output_type": "stream",
     "text": [
      "0.08944299280617826\n"
     ]
    },
    {
     "name": "stderr",
     "output_type": "stream",
     "text": [
      "Training sLSTM:  30%|███       | 6/20 [3:58:57<9:20:48, 2403.48s/it] "
     ]
    },
    {
     "name": "stdout",
     "output_type": "stream",
     "text": [
      "0.08801346359403019\n"
     ]
    },
    {
     "name": "stderr",
     "output_type": "stream",
     "text": [
      "Training sLSTM:  35%|███▌      | 7/20 [4:39:45<8:43:53, 2417.94s/it]"
     ]
    },
    {
     "name": "stdout",
     "output_type": "stream",
     "text": [
      "0.08306918877071483\n"
     ]
    },
    {
     "name": "stderr",
     "output_type": "stream",
     "text": [
      "Training sLSTM:  40%|████      | 8/20 [5:20:34<8:05:33, 2427.82s/it]"
     ]
    },
    {
     "name": "stdout",
     "output_type": "stream",
     "text": [
      "0.08401050346884859\n"
     ]
    },
    {
     "name": "stderr",
     "output_type": "stream",
     "text": [
      "Training sLSTM:  45%|████▌     | 9/20 [6:00:43<7:23:59, 2421.76s/it]"
     ]
    },
    {
     "name": "stdout",
     "output_type": "stream",
     "text": [
      "0.12709553212814959\n"
     ]
    },
    {
     "name": "stderr",
     "output_type": "stream",
     "text": [
      "Training sLSTM:  50%|█████     | 10/20 [6:40:23<6:41:31, 2409.13s/it]"
     ]
    },
    {
     "name": "stdout",
     "output_type": "stream",
     "text": [
      "0.10396901828030532\n"
     ]
    },
    {
     "name": "stderr",
     "output_type": "stream",
     "text": [
      "Training sLSTM:  55%|█████▌    | 11/20 [7:19:37<5:58:48, 2392.04s/it]"
     ]
    },
    {
     "name": "stdout",
     "output_type": "stream",
     "text": [
      "0.1022612001886427\n"
     ]
    },
    {
     "name": "stderr",
     "output_type": "stream",
     "text": [
      "Training sLSTM:  60%|██████    | 12/20 [7:58:30<5:16:34, 2374.28s/it]"
     ]
    },
    {
     "name": "stdout",
     "output_type": "stream",
     "text": [
      "0.0994869907053611\n"
     ]
    },
    {
     "name": "stderr",
     "output_type": "stream",
     "text": [
      "Training sLSTM:  65%|██████▌   | 13/20 [8:37:58<4:36:45, 2372.15s/it]"
     ]
    },
    {
     "name": "stdout",
     "output_type": "stream",
     "text": [
      "0.10191334984943934\n"
     ]
    },
    {
     "name": "stderr",
     "output_type": "stream",
     "text": [
      "Training sLSTM:  70%|███████   | 14/20 [9:16:34<3:55:31, 2355.22s/it]"
     ]
    },
    {
     "name": "stdout",
     "output_type": "stream",
     "text": [
      "0.09947909304464952\n"
     ]
    },
    {
     "name": "stderr",
     "output_type": "stream",
     "text": [
      "Training sLSTM:  75%|███████▌  | 15/20 [9:55:18<3:15:28, 2345.78s/it]"
     ]
    },
    {
     "name": "stdout",
     "output_type": "stream",
     "text": [
      "0.09792880606569672\n"
     ]
    },
    {
     "name": "stderr",
     "output_type": "stream",
     "text": [
      "Training sLSTM:  80%|████████  | 16/20 [10:34:39<2:36:42, 2350.53s/it]"
     ]
    },
    {
     "name": "stdout",
     "output_type": "stream",
     "text": [
      "0.09433991135545881\n"
     ]
    },
    {
     "name": "stderr",
     "output_type": "stream",
     "text": [
      "Training sLSTM:  85%|████████▌ | 17/20 [11:14:06<1:57:46, 2355.38s/it]"
     ]
    },
    {
     "name": "stdout",
     "output_type": "stream",
     "text": [
      "0.09238224881184005\n"
     ]
    },
    {
     "name": "stderr",
     "output_type": "stream",
     "text": [
      "Training sLSTM:  90%|█████████ | 18/20 [11:52:54<1:18:14, 2347.22s/it]"
     ]
    },
    {
     "name": "stdout",
     "output_type": "stream",
     "text": [
      "0.09175746888833256\n"
     ]
    },
    {
     "name": "stderr",
     "output_type": "stream",
     "text": [
      "Training sLSTM:  95%|█████████▌| 19/20 [12:32:18<39:12, 2352.27s/it]  "
     ]
    },
    {
     "name": "stdout",
     "output_type": "stream",
     "text": [
      "0.09058053940058591\n"
     ]
    },
    {
     "name": "stderr",
     "output_type": "stream",
     "text": [
      "Training sLSTM: 100%|██████████| 20/20 [13:10:11<00:00, 2370.58s/it]"
     ]
    },
    {
     "name": "stdout",
     "output_type": "stream",
     "text": [
      "0.10863866605088376\n"
     ]
    },
    {
     "name": "stderr",
     "output_type": "stream",
     "text": [
      "\n"
     ]
    },
    {
     "data": {
      "image/png": "[encoded data removed]",
      "text/plain": [
       "<Figure size 640x480 with 1 Axes>"
      ]
     },
     "metadata": {},
     "output_type": "display_data"
    },
    {
     "name": "stdout",
     "output_type": "stream",
     "text": [
      "Returning from train_model: model type: <class '__main__.EMGModel'>, train_losses type: <class 'list'>\n"
     ]
    },
    {
     "name": "stderr",
     "output_type": "stream",
     "text": [
      "Training mLSTM:   5%|▌         | 1/20 [32:21<10:14:54, 1941.80s/it]"
     ]
    },
    {
     "name": "stdout",
     "output_type": "stream",
     "text": [
      "0.13026369598163187\n"
     ]
    },
    {
     "name": "stderr",
     "output_type": "stream",
     "text": [
      "Training mLSTM:  10%|█         | 2/20 [1:05:38<9:52:14, 1974.12s/it]"
     ]
    },
    {
     "name": "stdout",
     "output_type": "stream",
     "text": [
      "0.09982986874710903\n"
     ]
    },
    {
     "name": "stderr",
     "output_type": "stream",
     "text": [
      "Training mLSTM:  15%|█▌        | 3/20 [1:38:08<9:16:15, 1963.28s/it]"
     ]
    },
    {
     "name": "stdout",
     "output_type": "stream",
     "text": [
      "0.0921002766051101\n"
     ]
    },
    {
     "name": "stderr",
     "output_type": "stream",
     "text": [
      "Training mLSTM:  20%|██        | 4/20 [2:10:04<8:38:28, 1944.29s/it]"
     ]
    },
    {
     "name": "stdout",
     "output_type": "stream",
     "text": [
      "0.08628998411700307\n"
     ]
    },
    {
     "name": "stderr",
     "output_type": "stream",
     "text": [
      "Training mLSTM:  25%|██▌       | 5/20 [2:42:38<8:06:56, 1947.79s/it]"
     ]
    },
    {
     "name": "stdout",
     "output_type": "stream",
     "text": [
      "0.08473704183292687\n"
     ]
    },
    {
     "name": "stderr",
     "output_type": "stream",
     "text": [
      "Training mLSTM:  30%|███       | 6/20 [3:15:51<7:38:04, 1963.19s/it]"
     ]
    },
    {
     "name": "stdout",
     "output_type": "stream",
     "text": [
      "0.08276236539071091\n"
     ]
    },
    {
     "name": "stderr",
     "output_type": "stream",
     "text": [
      "Training mLSTM:  35%|███▌      | 7/20 [3:47:50<7:02:13, 1948.71s/it]"
     ]
    },
    {
     "name": "stdout",
     "output_type": "stream",
     "text": [
      "0.07843342760719381\n"
     ]
    },
    {
     "name": "stderr",
     "output_type": "stream",
     "text": [
      "Training mLSTM:  40%|████      | 8/20 [4:19:34<6:26:57, 1934.77s/it]"
     ]
    },
    {
     "name": "stdout",
     "output_type": "stream",
     "text": [
      "0.07779512262088968\n"
     ]
    },
    {
     "name": "stderr",
     "output_type": "stream",
     "text": [
      "Training mLSTM:  45%|████▌     | 9/20 [4:52:22<5:56:36, 1945.11s/it]"
     ]
    },
    {
     "name": "stdout",
     "output_type": "stream",
     "text": [
      "0.07717413805456512\n"
     ]
    },
    {
     "name": "stderr",
     "output_type": "stream",
     "text": [
      "Training mLSTM:  50%|█████     | 10/20 [5:25:06<5:25:09, 1950.91s/it]"
     ]
    },
    {
     "name": "stdout",
     "output_type": "stream",
     "text": [
      "0.0743196723971401\n"
     ]
    },
    {
     "name": "stderr",
     "output_type": "stream",
     "text": [
      "Training mLSTM:  55%|█████▌    | 11/20 [5:57:05<4:51:08, 1940.97s/it]"
     ]
    },
    {
     "name": "stdout",
     "output_type": "stream",
     "text": [
      "0.076743117483618\n"
     ]
    },
    {
     "name": "stderr",
     "output_type": "stream",
     "text": [
      "Training mLSTM:  60%|██████    | 12/20 [6:29:28<4:18:52, 1941.59s/it]"
     ]
    },
    {
     "name": "stdout",
     "output_type": "stream",
     "text": [
      "0.07293048695055683\n"
     ]
    },
    {
     "name": "stderr",
     "output_type": "stream",
     "text": [
      "Training mLSTM:  65%|██████▌   | 13/20 [7:02:42<3:48:22, 1957.57s/it]"
     ]
    },
    {
     "name": "stdout",
     "output_type": "stream",
     "text": [
      "0.07206621116042933\n"
     ]
    },
    {
     "name": "stderr",
     "output_type": "stream",
     "text": [
      "Training mLSTM:  70%|███████   | 14/20 [7:35:18<3:15:43, 1957.18s/it]"
     ]
    },
    {
     "name": "stdout",
     "output_type": "stream",
     "text": [
      "0.0711900251061233\n"
     ]
    },
    {
     "name": "stderr",
     "output_type": "stream",
     "text": [
      "Training mLSTM:  75%|███████▌  | 15/20 [8:06:57<2:41:37, 1939.48s/it]"
     ]
    },
    {
     "name": "stdout",
     "output_type": "stream",
     "text": [
      "0.07150109966430675\n"
     ]
    },
    {
     "name": "stderr",
     "output_type": "stream",
     "text": [
      "Training mLSTM:  80%|████████  | 16/20 [8:39:30<2:09:35, 1943.75s/it]"
     ]
    },
    {
     "name": "stdout",
     "output_type": "stream",
     "text": [
      "0.07988578795161742\n"
     ]
    },
    {
     "name": "stderr",
     "output_type": "stream",
     "text": [
      "Training mLSTM:  85%|████████▌ | 17/20 [9:12:33<1:37:46, 1955.38s/it]"
     ]
    },
    {
     "name": "stdout",
     "output_type": "stream",
     "text": [
      "0.07889813712146426\n"
     ]
    },
    {
     "name": "stderr",
     "output_type": "stream",
     "text": [
      "Training mLSTM:  90%|█████████ | 18/20 [9:44:37<1:04:51, 1945.92s/it]"
     ]
    },
    {
     "name": "stdout",
     "output_type": "stream",
     "text": [
      "0.07412301325024304\n"
     ]
    },
    {
     "name": "stderr",
     "output_type": "stream",
     "text": [
      "Training mLSTM:  95%|█████████▌| 19/20 [10:17:43<32:38, 1958.14s/it] "
     ]
    },
    {
     "name": "stdout",
     "output_type": "stream",
     "text": [
      "0.06950649195516359\n"
     ]
    },
    {
     "name": "stderr",
     "output_type": "stream",
     "text": [
      "Training mLSTM: 100%|██████████| 20/20 [10:50:38<00:00, 1951.94s/it]"
     ]
    },
    {
     "name": "stdout",
     "output_type": "stream",
     "text": [
      "0.06818713793118295\n"
     ]
    },
    {
     "name": "stderr",
     "output_type": "stream",
     "text": [
      "\n"
     ]
    },
    {
     "data": {
      "image/png": "[encoded data removed]",
      "text/plain": [
       "<Figure size 640x480 with 1 Axes>"
      ]
     },
     "metadata": {},
     "output_type": "display_data"
    },
    {
     "name": "stdout",
     "output_type": "stream",
     "text": [
      "Returning from train_model: model type: <class '__main__.EMGModel'>, train_losses type: <class 'list'>\n"
     ]
    },
    {
     "name": "stderr",
     "output_type": "stream",
     "text": [
      "Training xLSTM:   5%|▌         | 1/20 [1:41:22<32:06:08, 6082.57s/it]"
     ]
    },
    {
     "name": "stdout",
     "output_type": "stream",
     "text": [
      "0.15353084606751355\n"
     ]
    },
    {
     "name": "stderr",
     "output_type": "stream",
     "text": [
      "Training xLSTM:  10%|█         | 2/20 [3:23:22<30:31:26, 6104.80s/it]"
     ]
    },
    {
     "name": "stdout",
     "output_type": "stream",
     "text": [
      "0.1069591768896176\n"
     ]
    },
    {
     "name": "stderr",
     "output_type": "stream",
     "text": [
      "Training xLSTM:  15%|█▌        | 3/20 [5:06:28<29:00:10, 6141.81s/it]"
     ]
    },
    {
     "name": "stdout",
     "output_type": "stream",
     "text": [
      "0.09790387480756675\n"
     ]
    },
    {
     "name": "stderr",
     "output_type": "stream",
     "text": [
      "Training xLSTM:  20%|██        | 4/20 [6:49:41<27:23:09, 6161.84s/it]"
     ]
    },
    {
     "name": "stdout",
     "output_type": "stream",
     "text": [
      "0.09178606037741062\n"
     ]
    },
    {
     "name": "stderr",
     "output_type": "stream",
     "text": [
      "Training xLSTM:  25%|██▌       | 5/20 [8:32:50<25:42:57, 6171.85s/it]"
     ]
    },
    {
     "name": "stdout",
     "output_type": "stream",
     "text": [
      "0.08703914018170343\n"
     ]
    },
    {
     "name": "stderr",
     "output_type": "stream",
     "text": [
      "Training xLSTM:  30%|███       | 6/20 [10:14:58<23:56:34, 6156.74s/it]"
     ]
    },
    {
     "name": "stdout",
     "output_type": "stream",
     "text": [
      "0.08542256446682961\n"
     ]
    },
    {
     "name": "stderr",
     "output_type": "stream",
     "text": [
      "Training xLSTM:  35%|███▌      | 7/20 [11:57:32<22:13:45, 6155.78s/it]"
     ]
    },
    {
     "name": "stdout",
     "output_type": "stream",
     "text": [
      "0.08144851599369039\n"
     ]
    },
    {
     "name": "stderr",
     "output_type": "stream",
     "text": [
      "Training xLSTM:  40%|████      | 8/20 [13:39:59<20:30:36, 6153.06s/it]"
     ]
    },
    {
     "name": "stdout",
     "output_type": "stream",
     "text": [
      "0.08586136499084414\n"
     ]
    },
    {
     "name": "stderr",
     "output_type": "stream",
     "text": [
      "Training xLSTM:  45%|████▌     | 9/20 [15:22:33<18:48:05, 6153.24s/it]"
     ]
    },
    {
     "name": "stdout",
     "output_type": "stream",
     "text": [
      "0.0820080460719988\n"
     ]
    },
    {
     "name": "stderr",
     "output_type": "stream",
     "text": [
      "Training xLSTM:  50%|█████     | 10/20 [17:05:51<17:07:51, 6167.13s/it]"
     ]
    },
    {
     "name": "stdout",
     "output_type": "stream",
     "text": [
      "0.0790599084784193\n"
     ]
    },
    {
     "name": "stderr",
     "output_type": "stream",
     "text": [
      "Training xLSTM:  55%|█████▌    | 11/20 [18:48:20<15:24:15, 6161.68s/it]"
     ]
    },
    {
     "name": "stdout",
     "output_type": "stream",
     "text": [
      "0.07339090108519887\n"
     ]
    },
    {
     "name": "stderr",
     "output_type": "stream",
     "text": [
      "Training xLSTM:  60%|██████    | 12/20 [20:31:38<13:43:02, 6172.76s/it]"
     ]
    },
    {
     "name": "stdout",
     "output_type": "stream",
     "text": [
      "0.07401740078340127\n"
     ]
    },
    {
     "name": "stderr",
     "output_type": "stream",
     "text": [
      "Training xLSTM:  65%|██████▌   | 13/20 [22:13:20<11:57:38, 6151.16s/it]"
     ]
    },
    {
     "name": "stdout",
     "output_type": "stream",
     "text": [
      "0.07071853155123868\n"
     ]
    },
    {
     "name": "stderr",
     "output_type": "stream",
     "text": [
      "Training xLSTM:  70%|███████   | 14/20 [23:57:37<10:18:19, 6183.28s/it]"
     ]
    },
    {
     "name": "stdout",
     "output_type": "stream",
     "text": [
      "0.07370849352893201\n"
     ]
    },
    {
     "name": "stderr",
     "output_type": "stream",
     "text": [
      "Training xLSTM:  75%|███████▌  | 15/20 [25:42:55<8:38:39, 6223.80s/it] "
     ]
    },
    {
     "name": "stdout",
     "output_type": "stream",
     "text": [
      "0.06826495017241742\n"
     ]
    },
    {
     "name": "stderr",
     "output_type": "stream",
     "text": [
      "Training xLSTM:  80%|████████  | 16/20 [27:20:15<6:47:13, 6108.46s/it]"
     ]
    },
    {
     "name": "stdout",
     "output_type": "stream",
     "text": [
      "0.0677369746760582\n"
     ]
    },
    {
     "name": "stderr",
     "output_type": "stream",
     "text": [
      "Training xLSTM:  85%|████████▌ | 17/20 [28:51:41<4:56:03, 5921.03s/it]"
     ]
    },
    {
     "name": "stdout",
     "output_type": "stream",
     "text": [
      "0.06565332414811417\n"
     ]
    },
    {
     "name": "stderr",
     "output_type": "stream",
     "text": [
      "Training xLSTM:  90%|█████████ | 18/20 [30:22:55<3:12:53, 5786.70s/it]"
     ]
    },
    {
     "name": "stdout",
     "output_type": "stream",
     "text": [
      "0.07200891949218666\n"
     ]
    },
    {
     "name": "stderr",
     "output_type": "stream",
     "text": [
      "Training xLSTM:  95%|█████████▌| 19/20 [31:53:47<1:34:46, 5686.30s/it]"
     ]
    },
    {
     "name": "stdout",
     "output_type": "stream",
     "text": [
      "0.0638942401504103\n"
     ]
    },
    {
     "name": "stderr",
     "output_type": "stream",
     "text": [
      "Training xLSTM: 100%|██████████| 20/20 [33:24:44<00:00, 6014.20s/it]  "
     ]
    },
    {
     "name": "stdout",
     "output_type": "stream",
     "text": [
      "0.06319000396001616\n"
     ]
    },
    {
     "name": "stderr",
     "output_type": "stream",
     "text": [
      "\n"
     ]
    },
    {
     "data": {
      "image/png": "[encoded data removed]",
      "text/plain": [
       "<Figure size 640x480 with 1 Axes>"
      ]
     },
     "metadata": {},
     "output_type": "display_data"
    },
    {
     "name": "stdout",
     "output_type": "stream",
     "text": [
      "Returning from train_model: model type: <class '__main__.EMGModel'>, train_losses type: <class 'list'>\n"
     ]
    },
    {
     "data": {
      "image/png": "[encoded data removed]",
      "text/plain": [
       "<Figure size 640x480 with 1 Axes>"
      ]
     },
     "metadata": {},
     "output_type": "display_data"
    }
   ],
   "source": [
    "import math\n",
    "import torch.backends.cudnn as cudnn\n",
    "cudnn.benchmark = True\n",
    "# Training process\n",
    "def train_model(model, model_name, epochs, learning_rate, flag1, flag2):\n",
    "    model = model.to(device)\n",
    "    criterion = nn.MSELoss().to(device)\n",
    "    optimizer = torch.optim.Adam(model.parameters(), lr=learning_rate)\n",
    "\n",
    "    train_losses = []\n",
    "    for epoch in tqdm(range(epochs), desc=f'Training {model_name}'):\n",
    "        model.train()\n",
    "        epoch_loss = 0\n",
    "        for i, (inputs, targets) in enumerate(train_loader):\n",
    "            inputs, targets = inputs.to(device), targets.to(device)\n",
    "            optimizer.zero_grad()\n",
    "            outputs = model(inputs)\n",
    "            loss = criterion(outputs, targets)\n",
    "            loss.backward()\n",
    "            optimizer.step()\n",
    "\n",
    "            epoch_loss += loss.item()\n",
    "\n",
    "        torch.cuda.synchronize()\n",
    "        lossp = math.sqrt(epoch_loss / len(train_loader))\n",
    "        print(lossp)\n",
    "        train_losses.append(lossp)\n",
    "        torch.cuda.empty_cache()\n",
    "\n",
    "    plt.plot(train_losses, label=model_name)\n",
    "    plt.title(f'{model_name} {flag1} training loss for {flag2}')\n",
    "    plt.xlabel('Epochs')\n",
    "    plt.ylabel('RMSE Loss')\n",
    "    plt.legend()\n",
    "    plt.show()\n",
    "\n",
    "    print(f\"Returning from train_model: model type: {type(model)}, train_losses type: {type(train_losses)}\")\n",
    "    return model, train_losses\n",
    "\n",
    "# Train the models\n",
    "trained_models = {}\n",
    "all_train_losses = {}\n",
    "flag1 = 'torques'\n",
    "flag2 = 'DNS'\n",
    "for model_name, model in models.items():\n",
    "    trained_models[model_name], all_train_losses[model_name] = train_model(model, model_name, epochs=20, learning_rate=0.01, flag1=flag1, flag2=flag2)\n",
    "\n",
    "# Plot losses for each model\n",
    "plt.figure()\n",
    "for model_name, train_losses in all_train_losses.items():\n",
    "    plt.plot(train_losses, label=model_name)\n",
    "\n",
    "# Plot all model losses compared\n",
    "plt.title(f'All Models {flag1} Training Losses for {flag2}')\n",
    "plt.xlabel('Epochs')\n",
    "plt.ylabel('RMSE Loss')\n",
    "plt.legend()\n",
    "plt.show()\n",
    "\n",
    "# Evaluate models on test data\n",
    "def evaluate_model(model, data_loader):\n",
    "    model = model.to(device)\n",
    "    model.eval()\n",
    "    predictions = []\n",
    "    with torch.no_grad():\n",
    "        for inputs, _ in data_loader:\n",
    "            inputs = inputs.to(device)\n",
    "            outputs = model(inputs)\n",
    "            predictions.extend(outputs.cpu().numpy())\n",
    "    return predictions\n",
    "\n",
    "test_predictions = {}\n",
    "for model_name, model in trained_models.items():\n",
    "    test_predictions[model_name] = evaluate_model(model, test_loader)\n",
    "\n",
    "# Plot predictions for each model\n",
    "for model_name, preds in test_predictions.items():\n",
    "    # Inverse transform the predictions and actual values\n",
    "    preds = scaler.inverse_transform(np.array(preds).reshape(-1, 1))\n",
    "    actual = scaler.inverse_transform(testY.numpy().reshape(-1, 1))\n",
    "\n",
    "    plt.figure()\n",
    "    plt.plot(actual, label='Actual')\n",
    "    plt.plot(preds, label=model_name + ' Predictions')\n",
    "    plt.title(f'{model_name} are predicted for {flag2} {flag1} with actual results')\n",
    "    plt.legend()\n",
    "    plt.show()\n",
    "\n",
    "\n",
    "# Plot all model predictions compared\n",
    "plt.figure()\n",
    "plt.plot(actual, label='Actual')\n",
    "for model_name, preds in test_predictions.items():\n",
    "    # Inverse transform the predictions \n",
    "    preds = scaler.inverse_transform(np.array(preds).reshape(-1, 1))\n",
    "    plt.plot(preds, label=model_name + ' Predictions')\n",
    "\n",
    "plt.title(f'All models are predicted for {flag2} {flag1} with actual results')\n",
    "plt.legend()\n",
    "plt.show()"
   ]
  },
  {
   "cell_type": "code",
   "execution_count": null,
   "metadata": {},
   "outputs": [],
   "source": [
    "sLSTM = [0.14717308361341958, 0.10391265409942856, 0.0973385054063462, 0.08801346359403019, 0.08306918877071483, 0.08401050346884859, 0.12709553212814959, 0.10396901828030532, 0.1022612001886427, 0.0994869907053611, 0.10191334984943934]\n"
   ]
  }
 ],
 "metadata": {
  "kernelspec": {
   "display_name": "SIAT-ModelTest",
   "language": "python",
   "name": "python3"
  },
  "language_info": {
   "codemirror_mode": {
    "name": "ipython",
    "version": 3
   },
   "file_extension": ".py",
   "mimetype": "text/x-python",
   "name": "python",
   "nbconvert_exporter": "python",
   "pygments_lexer": "ipython3",
   "version": "3.11.10"
  }
 },
 "nbformat": 4,
 "nbformat_minor": 2
}
